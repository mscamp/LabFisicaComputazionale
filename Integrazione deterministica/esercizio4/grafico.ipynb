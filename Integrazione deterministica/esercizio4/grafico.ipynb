{
 "cells": [
  {
   "cell_type": "markdown",
   "id": "0",
   "metadata": {},
   "source": [
    "## Moduli"
   ]
  },
  {
   "cell_type": "code",
   "execution_count": null,
   "id": "1",
   "metadata": {},
   "outputs": [],
   "source": [
    "# Importa moduli\n",
    "import numpy as np\n",
    "import matplotlib.pyplot as plt\n",
    "import scienceplots\n",
    "import math"
   ]
  },
  {
   "cell_type": "code",
   "execution_count": null,
   "id": "2",
   "metadata": {},
   "outputs": [],
   "source": [
    "# Stile dei grafici\n",
    "plt.style.use(['science', 'notebook', 'grid'])"
   ]
  },
  {
   "cell_type": "markdown",
   "id": "3",
   "metadata": {},
   "source": [
    "## Variabili globali"
   ]
  },
  {
   "cell_type": "code",
   "execution_count": null,
   "id": "4",
   "metadata": {},
   "outputs": [],
   "source": [
    "# Vettore degli 1/N\n",
    "N_min = 10\n",
    "N_max = 100\n",
    "step = 10\n",
    "one_over_N = [1/n for n in range(N_min, N_max + step, step)]\n",
    "print(one_over_N)"
   ]
  },
  {
   "cell_type": "markdown",
   "id": "5",
   "metadata": {},
   "source": [
    "## Lettura file di testo"
   ]
  },
  {
   "cell_type": "code",
   "execution_count": null,
   "id": "6",
   "metadata": {},
   "outputs": [],
   "source": [
    "scarto_trapezio = []\n",
    "\n",
    "with open('scarto_trapezio.txt', 'r') as f:\n",
    "    while True:\n",
    "        line = f.readline()\n",
    "        line = line.strip()\n",
    "        if not line:\n",
    "            break\n",
    "        scarto_trapezio.append(float(line))\n",
    "        \n",
    "print(scarto_trapezio)"
   ]
  },
  {
   "cell_type": "code",
   "execution_count": null,
   "id": "7",
   "metadata": {},
   "outputs": [],
   "source": [
    "scarto_simpson = []\n",
    "\n",
    "with open('scarto_simpson.txt', 'r') as f:\n",
    "    while True:\n",
    "        line = f.readline()\n",
    "        line = line.strip()\n",
    "        if not line:\n",
    "            break\n",
    "        scarto_simpson.append(float(line))\n",
    "\n",
    "print(scarto_simpson)"
   ]
  },
  {
   "cell_type": "markdown",
   "id": "8",
   "metadata": {},
   "source": [
    "## Plot trapezio (scarto dal valore analitico dell'integrale in funzione di 1/N)"
   ]
  },
  {
   "cell_type": "code",
   "execution_count": null,
   "id": "9",
   "metadata": {},
   "outputs": [],
   "source": [
    "x_min = 0.01\n",
    "x_max = 0.1\n",
    "points = 1000\n",
    "x_lin = np.linspace(x_min, x_max, points)\n",
    "x = np.array(one_over_N)\n",
    "y = np.array(scarto_trapezio)"
   ]
  },
  {
   "cell_type": "code",
   "execution_count": null,
   "id": "10",
   "metadata": {},
   "outputs": [],
   "source": [
    "# Estrazione dei parametri con fit lineare\n",
    "x_lin_log = np.log10(x_lin)\n",
    "x_log = np.log10(x)\n",
    "y_log = np.log10(y)\n",
    "\n",
    "m, b = np.polyfit(x_log, y_log, 1)\n",
    "print(\"Coefficiente angolare: \" + str(m))\n",
    "print(\"Quota: \" + str(b))"
   ]
  },
  {
   "cell_type": "code",
   "execution_count": null,
   "id": "11",
   "metadata": {},
   "outputs": [],
   "source": [
    "plt.title('Plot degli scarti in funzione di 1/N (trapezio estesa)', fontsize=12)\n",
    "\n",
    "plt.gca().tick_params(axis='both', which='major', labelsize=8)\n",
    "plt.xlabel('1/N', fontsize=10) # Asse x\n",
    "plt.ylabel('| T(N) - I |', fontsize=10) # Asse y\n",
    "\n",
    "plt.plot(x, y, 'o--', color='blue', lw=1.0, ms=4, label='| T(N) - I |')\n",
    "\n",
    "plt.legend(fancybox=False, fontsize=10)\n",
    "\n",
    "plt.savefig('trapezio_grafico.png', dpi=200)\n",
    "plt.show()"
   ]
  },
  {
   "cell_type": "code",
   "execution_count": null,
   "id": "12",
   "metadata": {},
   "outputs": [],
   "source": [
    "plt.title('Fit per verificare l\\'andamento 1/N^2 (trapezio estesa)', fontsize=12)\n",
    "\n",
    "plt.gca().tick_params(axis='both', which='major', labelsize=8)\n",
    "plt.xlabel('1/N', fontsize=10) # Asse x\n",
    "plt.ylabel('| T(N) - I |', fontsize=10) # Asse y\n",
    "plt.xscale('log')\n",
    "plt.yscale('log')\n",
    "\n",
    "plt.plot(x, y, 'o--', color='blue', lw=1.0, ms=4, label='| T(N) - I |')\n",
    "plt.plot(x_lin, 10**(m*x_lin_log + b), '-', color='red', lw=1.0, ms=4, label='Fit lineare (1/N^2)')\n",
    "\n",
    "plt.legend(fancybox=False, fontsize=10)\n",
    "\n",
    "plt.savefig('trapezio_grafico_fit.png', dpi=200)\n",
    "plt.show()"
   ]
  },
  {
   "cell_type": "markdown",
   "id": "13",
   "metadata": {},
   "source": [
    "## Plot Simpson (scarto dal valore analitico dell'integrale in funzione di 1/N)"
   ]
  },
  {
   "cell_type": "code",
   "execution_count": null,
   "id": "14",
   "metadata": {},
   "outputs": [],
   "source": [
    "x = np.array(one_over_N)\n",
    "y = np.array(scarto_simpson)"
   ]
  },
  {
   "cell_type": "code",
   "execution_count": null,
   "id": "15",
   "metadata": {},
   "outputs": [],
   "source": [
    "# Estrazione dei parametri con fit lineare\n",
    "x_log = np.log(x)\n",
    "y_log = np.log(y)\n",
    "\n",
    "m, q = np.polyfit(x_log, y_log, 1)\n",
    "print(\"Coefficiente angolare: \" + str(m))\n",
    "print(\"Quota: \" + str(b))"
   ]
  },
  {
   "cell_type": "code",
   "execution_count": null,
   "id": "16",
   "metadata": {},
   "outputs": [],
   "source": [
    "plt.title('Plot degli scarti in funzione di 1/N (simpson estesa)', fontsize=12)\n",
    "\n",
    "plt.gca().tick_params(axis='both', which='major', labelsize=8)\n",
    "plt.xlabel('1/N', fontsize=10) # Asse x\n",
    "plt.ylabel('| S(N) - I |', fontsize=10) # Asse y\n",
    "\n",
    "plt.plot(x, y, 'o--', color='blue', lw=1.0, ms=4, label='| S(N) - I |')\n",
    "\n",
    "plt.legend(fancybox=False, fontsize=10)\n",
    "\n",
    "plt.savefig('simpson_grafico.png', dpi=200)\n",
    "plt.show()"
   ]
  },
  {
   "cell_type": "code",
   "execution_count": null,
   "id": "17",
   "metadata": {},
   "outputs": [],
   "source": [
    "plt.title('Fit per verificare l\\'andamento 1/N^4 (simpson estesa)', fontsize=12)\n",
    "\n",
    "plt.gca().tick_params(axis='both', which='major', labelsize=8)\n",
    "plt.xlabel('1/N', fontsize=10) # Asse x\n",
    "plt.ylabel('| S(N) - I |', fontsize=10) # Asse y\n",
    "plt.xscale('log')\n",
    "plt.yscale('log')\n",
    "\n",
    "plt.plot(x, y, 'o--', color='blue', lw=1.0, ms=4, label='| S(N) - I |')\n",
    "plt.plot(x_lin, 10**(m*x_lin_log + b), '-', color='red', lw=1.0, ms=4, label='Fit lineare (1/N^4)')\n",
    "\n",
    "plt.legend(fancybox=False, fontsize=10)\n",
    "\n",
    "plt.savefig('simpson_grafico_fit.png', dpi=200)\n",
    "plt.show()"
   ]
  }
 ],
 "metadata": {
  "kernelspec": {
   "display_name": "labcalcolo",
   "language": "python",
   "name": "python3"
  },
  "language_info": {
   "codemirror_mode": {
    "name": "ipython",
    "version": 3
   },
   "file_extension": ".py",
   "mimetype": "text/x-python",
   "name": "python",
   "nbconvert_exporter": "python",
   "pygments_lexer": "ipython3",
   "version": "3.13.1"
  }
 },
 "nbformat": 4,
 "nbformat_minor": 5
}
