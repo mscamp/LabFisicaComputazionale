{
 "cells": [
  {
   "cell_type": "markdown",
   "metadata": {},
   "source": [
    "## Moduli"
   ]
  },
  {
   "cell_type": "code",
   "execution_count": 13,
   "metadata": {},
   "outputs": [],
   "source": [
    "# Importa moduli\n",
    "import numpy as np\n",
    "import matplotlib.pyplot as plt\n",
    "from mpl_toolkits.mplot3d import Axes3D\n",
    "from matplotlib.animation import FuncAnimation\n",
    "import math"
   ]
  },
  {
   "cell_type": "markdown",
   "metadata": {},
   "source": [
    "## Variabili globali"
   ]
  },
  {
   "cell_type": "code",
   "execution_count": 14,
   "metadata": {},
   "outputs": [],
   "source": [
    "n = 1000\n",
    "t_start = 0\n",
    "t_end = 30"
   ]
  },
  {
   "cell_type": "markdown",
   "metadata": {},
   "source": [
    "## Plot 3D"
   ]
  },
  {
   "cell_type": "code",
   "execution_count": 15,
   "metadata": {},
   "outputs": [],
   "source": [
    "def leggi_file_3d(file_name_1, file_name_2, file_name_3):\n",
    "    file_1 = np.loadtxt(file_name_1)\n",
    "    file_2 = np.loadtxt(file_name_2)\n",
    "    file_3 = np.loadtxt(file_name_3)\n",
    "    x = file_1[:, 1]\n",
    "    y = file_2[:, 1]\n",
    "    z = file_3[:, 1]\n",
    "    return x, y, z"
   ]
  },
  {
   "cell_type": "code",
   "execution_count": 16,
   "metadata": {},
   "outputs": [],
   "source": [
    "# Posizione dei corpi\n",
    "fig = plt.figure()\n",
    "ax = fig.add_subplot(111, projection='3d')\n",
    "\n",
    "x_1, y_1, z_1 = leggi_file_3d(f\"RK4_0_{n}.txt\", f\"RK4_1_{n}.txt\", f\"RK4_2_{n}.txt\")\n",
    "x_2, y_2, z_2 = leggi_file_3d(f\"RK4_3_{n}.txt\", f\"RK4_4_{n}.txt\", f\"RK4_5_{n}.txt\")\n",
    "x_3, y_3, z_3 = leggi_file_3d(f\"RK4_6_{n}.txt\", f\"RK4_7_{n}.txt\", f\"RK4_8_{n}.txt\")\n",
    "\n",
    "ax.set_title(f'Plot di $(x, y, z)$, steps = {n}', fontsize=12)\n",
    "ax.tick_params(axis='both', which='major', labelsize=8)\n",
    "\n",
    "ax.set_xlabel('$x(t)$', fontsize=10) # Asse x\n",
    "ax.set_ylabel('$y(t)$', fontsize=10) # Asse y\n",
    "ax.set_zlabel('$z(t)$', fontsize=10) # Asse z\n",
    "\n",
    "ax.plot(x_1, y_1, z_1, '--', color='red', lw=1.0, label='Corpo 1')\n",
    "ax.plot(x_2, y_2, z_2, '--', color='green', lw=1.0, label='Corpo 2')\n",
    "ax.plot(x_3, y_3, z_3, '--', color='blue', lw=1.0, label='Corpo 3')\n",
    "\n",
    "ax.legend(fancybox=False, fontsize=10)\n",
    "\n",
    "plt.savefig(f'RK4_3d_{n}.png', dpi=200)\n",
    "plt.close()"
   ]
  },
  {
   "cell_type": "markdown",
   "metadata": {},
   "source": [
    "## Animazione"
   ]
  },
  {
   "cell_type": "code",
   "execution_count": 17,
   "metadata": {},
   "outputs": [],
   "source": [
    "def animate_3d_trajectory(n, x_1, y_1, z_1, x_2, y_2, z_2, x_3, y_3, z_3):\n",
    "    fig = plt.figure()\n",
    "    ax = fig.add_subplot(111, projection='3d')\n",
    "\n",
    "    ax.set_xlabel('$x(t)$', fontsize=10)\n",
    "    ax.set_ylabel('$y(t)$', fontsize=10)\n",
    "    ax.set_zlabel('$z(t)$', fontsize=10)\n",
    "    ax.set_title(f'Plot di $(x, y, z)$, steps = {n}', fontsize=12)\n",
    "\n",
    "    point1, = ax.plot([], [], [], 'o', color='red', label='Corpo 1', ms=8)\n",
    "    point2, = ax.plot([], [], [], 'o', color='green', label='Corpo 2', ms=8)\n",
    "    point3, = ax.plot([], [], [], 'o', color='blue', label='Corpo 3', ms=8)\n",
    "\n",
    "    ax.set_xlim(min(min(x_1), min(x_2), min(x_3)), max(max(x_1), max(x_2), max(x_3)))\n",
    "    ax.set_ylim(min(min(y_1), min(y_2), min(y_3)), max(max(y_1), max(y_2), max(y_3)))\n",
    "    ax.set_zlim(min(min(z_1), min(z_2), min(z_3)), max(max(z_1), max(z_2), max(z_3)))\n",
    "\n",
    "    def update(frame):\n",
    "        point1.set_data([x_1[frame]], [y_1[frame]])\n",
    "        point1.set_3d_properties([z_1[frame]])\n",
    "        \n",
    "        point2.set_data([x_2[frame]], [y_2[frame]])\n",
    "        point2.set_3d_properties([z_2[frame]])\n",
    "        \n",
    "        point3.set_data([x_3[frame]], [y_3[frame]])\n",
    "        point3.set_3d_properties([z_3[frame]])\n",
    "        \n",
    "        return point1, point2, point3\n",
    "\n",
    "    ani = FuncAnimation(fig, update, frames=len(x_1), interval=50, blit=True)\n",
    "\n",
    "    ani.save(f'RK4_3d_animation_{n}.gif', fps=120)\n",
    "\n",
    "    plt.close()"
   ]
  },
  {
   "cell_type": "code",
   "execution_count": 18,
   "metadata": {},
   "outputs": [],
   "source": [
    "animate_3d_trajectory(n, x_1, y_1, z_1, x_2, y_2, z_2, x_3, y_3, z_3)"
   ]
  }
 ],
 "metadata": {
  "kernelspec": {
   "display_name": "labcalcolo",
   "language": "python",
   "name": "python3"
  },
  "language_info": {
   "codemirror_mode": {
    "name": "ipython",
    "version": 3
   },
   "file_extension": ".py",
   "mimetype": "text/x-python",
   "name": "python",
   "nbconvert_exporter": "python",
   "pygments_lexer": "ipython3",
   "version": "3.13.1"
  }
 },
 "nbformat": 4,
 "nbformat_minor": 2
}
