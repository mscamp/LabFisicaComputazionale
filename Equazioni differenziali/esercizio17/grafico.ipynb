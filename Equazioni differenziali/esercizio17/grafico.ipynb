{
 "cells": [
  {
   "cell_type": "markdown",
   "metadata": {},
   "source": [
    "## Moduli"
   ]
  },
  {
   "cell_type": "code",
   "execution_count": null,
   "metadata": {},
   "outputs": [],
   "source": [
    "# Importa moduli\n",
    "import numpy as np\n",
    "import matplotlib.pyplot as plt\n",
    "import scienceplots\n",
    "import math"
   ]
  },
  {
   "cell_type": "code",
   "execution_count": null,
   "metadata": {},
   "outputs": [],
   "source": [
    "# Stile dei grafici\n",
    "plt.style.use(['science', 'notebook', 'grid'])"
   ]
  },
  {
   "cell_type": "markdown",
   "metadata": {},
   "source": [
    "## Variabili globali"
   ]
  },
  {
   "cell_type": "code",
   "execution_count": null,
   "metadata": {},
   "outputs": [],
   "source": [
    "n = 3000\n",
    "t_start = 0\n",
    "t_end = 70"
   ]
  },
  {
   "cell_type": "markdown",
   "metadata": {},
   "source": [
    "## Plot di $(x, y)$"
   ]
  },
  {
   "cell_type": "code",
   "execution_count": null,
   "metadata": {},
   "outputs": [],
   "source": [
    "def leggi_file(file_name_1, file_name_2):\n",
    "    file_1 = np.loadtxt(file_name_1)\n",
    "    file_2 = np.loadtxt(file_name_2)\n",
    "    x = file_1[:, 1]\n",
    "    y = file_2[:, 1]\n",
    "    return x, y"
   ]
  },
  {
   "cell_type": "code",
   "execution_count": null,
   "metadata": {},
   "outputs": [],
   "source": [
    "# Eulero\n",
    "\n",
    "colors = np.linspace(t_start, t_end, n + 1)\n",
    "x, y = leggi_file(f\"Eulero_0_{n}.txt\", f\"Eulero_1_{n}.txt\")\n",
    "\n",
    "plt.title(f'Plot di $(x, y)$, steps = {n}', fontsize=12)\n",
    "\n",
    "plt.gca().tick_params(axis='both', which='major', labelsize=8)\n",
    "plt.xlabel('$x(t)$', fontsize=10) # Asse x\n",
    "plt.ylabel('$y(t)$', fontsize=10) # Asse y\n",
    "\n",
    "plt.scatter(x, y, s=1.5, c=colors, cmap='inferno', label='Eulero')\n",
    "plt.plot(x, y, '-', color='black', lw=0.05)\n",
    "cbar = plt.colorbar()\n",
    "cbar.set_label(label='Time steps', fontsize=10)\n",
    "\n",
    "plt.legend(fancybox=False, fontsize=10)\n",
    "\n",
    "plt.savefig(f'Eulero_xy_{n}.png', dpi=200)\n",
    "plt.close()"
   ]
  },
  {
   "cell_type": "code",
   "execution_count": null,
   "metadata": {},
   "outputs": [],
   "source": [
    "# RK2\n",
    "\n",
    "colors = np.linspace(t_start, t_end, n + 1)\n",
    "x, y = leggi_file(f\"RK2_0_{n}.txt\", f\"RK2_1_{n}.txt\")\n",
    "\n",
    "plt.title(f'Plot di $(x, y)$, steps = {n}', fontsize=12)\n",
    "\n",
    "plt.gca().tick_params(axis='both', which='major', labelsize=8)\n",
    "plt.xlabel('$x(t)$', fontsize=10) # Asse x\n",
    "plt.ylabel('$y(t)$', fontsize=10) # Asse y\n",
    "\n",
    "plt.scatter(x, y, s=1.5, c=colors, cmap='inferno', label='RK2')\n",
    "plt.plot(x, y, '-', color='black', lw=0.05)\n",
    "cbar = plt.colorbar()\n",
    "cbar.set_label(label='Time steps', fontsize=10)\n",
    "\n",
    "plt.legend(fancybox=False, fontsize=10)\n",
    "\n",
    "plt.savefig(f'RK2_xy_{n}.png', dpi=200)\n",
    "plt.close()"
   ]
  },
  {
   "cell_type": "code",
   "execution_count": null,
   "metadata": {},
   "outputs": [],
   "source": [
    "# RK4\n",
    "\n",
    "colors = np.linspace(t_start, t_end, n + 1)\n",
    "x, y = leggi_file(f\"RK4_0_{n}.txt\", f\"RK4_1_{n}.txt\")\n",
    "\n",
    "plt.title(f'Plot di $(x, y)$, steps = {n}', fontsize=12)\n",
    "\n",
    "plt.gca().tick_params(axis='both', which='major', labelsize=8)\n",
    "plt.xlabel('$x(t)$', fontsize=10) # Asse x\n",
    "plt.ylabel('$y(t)$', fontsize=10) # Asse y\n",
    "\n",
    "plt.scatter(x, y, s=1.5, c=colors, cmap='inferno', label='RK4')\n",
    "plt.plot(x, y, '-', color='black', lw=0.05)\n",
    "cbar = plt.colorbar()\n",
    "cbar.set_label(label='Time steps', fontsize=10)\n",
    "\n",
    "plt.legend(fancybox=False, fontsize=10)\n",
    "\n",
    "plt.savefig(f'RK4_xy_{n}.png', dpi=200)\n",
    "plt.close()"
   ]
  },
  {
   "cell_type": "markdown",
   "metadata": {},
   "source": [
    "## Plot di $(x, z)$"
   ]
  },
  {
   "cell_type": "code",
   "execution_count": null,
   "metadata": {},
   "outputs": [],
   "source": [
    "# Eulero\n",
    "\n",
    "colors = np.linspace(t_start, t_end, n + 1)\n",
    "x, y = leggi_file(f\"Eulero_0_{n}.txt\", f\"Eulero_2_{n}.txt\")\n",
    "\n",
    "plt.title(f'Plot di $(x, z)$, steps = {n}', fontsize=12)\n",
    "\n",
    "plt.gca().tick_params(axis='both', which='major', labelsize=8)\n",
    "plt.xlabel('$x(t)$', fontsize=10) # Asse x\n",
    "plt.ylabel('$z(t)$', fontsize=10) # Asse y\n",
    "\n",
    "plt.scatter(x, y, s=1.5, c=colors, cmap='inferno', label='Eulero')\n",
    "plt.plot(x, y, '-', color='black', lw=0.05)\n",
    "cbar = plt.colorbar()\n",
    "cbar.set_label(label='Time steps', fontsize=10)\n",
    "\n",
    "plt.legend(fancybox=False, fontsize=10)\n",
    "\n",
    "plt.savefig(f'Eulero_xz_{n}.png', dpi=200)\n",
    "plt.close()"
   ]
  },
  {
   "cell_type": "code",
   "execution_count": null,
   "metadata": {},
   "outputs": [],
   "source": [
    "# RK2\n",
    "\n",
    "colors = np.linspace(t_start, t_end, n + 1)\n",
    "x, y = leggi_file(f\"RK2_0_{n}.txt\", f\"RK2_2_{n}.txt\")\n",
    "\n",
    "plt.title(f'Plot di $(x, z)$, steps = {n}', fontsize=12)\n",
    "\n",
    "plt.gca().tick_params(axis='both', which='major', labelsize=8)\n",
    "plt.xlabel('$x(t)$', fontsize=10) # Asse x\n",
    "plt.ylabel('$z(t)$', fontsize=10) # Asse y\n",
    "\n",
    "plt.scatter(x, y, s=1.5, c=colors, cmap='inferno', label='RK2')\n",
    "plt.plot(x, y, '-', color='black', lw=0.05)\n",
    "cbar = plt.colorbar()\n",
    "cbar.set_label(label='Time steps', fontsize=10)\n",
    "\n",
    "plt.legend(fancybox=False, fontsize=10)\n",
    "\n",
    "plt.savefig(f'RK2_xz_{n}.png', dpi=200)\n",
    "plt.close()"
   ]
  },
  {
   "cell_type": "code",
   "execution_count": null,
   "metadata": {},
   "outputs": [],
   "source": [
    "# RK4\n",
    "\n",
    "colors = np.linspace(t_start, t_end, n + 1)\n",
    "x, y = leggi_file(f\"RK4_0_{n}.txt\", f\"RK4_2_{n}.txt\")\n",
    "\n",
    "plt.title(f'Plot di $(x, z)$, steps = {n}', fontsize=12)\n",
    "\n",
    "plt.gca().tick_params(axis='both', which='major', labelsize=8)\n",
    "plt.xlabel('$x(t)$', fontsize=10) # Asse x\n",
    "plt.ylabel('$z(t)$', fontsize=10) # Asse y\n",
    "\n",
    "plt.scatter(x, y, s=1.5, c=colors, cmap='inferno', label='RK4')\n",
    "plt.plot(x, y, '-', color='black', lw=0.05)\n",
    "cbar = plt.colorbar()\n",
    "cbar.set_label(label='Time steps', fontsize=10)\n",
    "\n",
    "plt.legend(fancybox=False, fontsize=10)\n",
    "\n",
    "plt.savefig(f'RK4_xz_{n}.png', dpi=200)\n",
    "plt.close()"
   ]
  },
  {
   "cell_type": "markdown",
   "metadata": {},
   "source": [
    "## Plot di $(y, z)$"
   ]
  },
  {
   "cell_type": "code",
   "execution_count": null,
   "metadata": {},
   "outputs": [],
   "source": [
    "# Eulero\n",
    "\n",
    "colors = np.linspace(t_start, t_end, n + 1)\n",
    "x, y = leggi_file(f\"Eulero_1_{n}.txt\", f\"Eulero_2_{n}.txt\")\n",
    "\n",
    "plt.title(f'Plot di $(y, z)$, steps = {n}', fontsize=12)\n",
    "\n",
    "plt.gca().tick_params(axis='both', which='major', labelsize=8)\n",
    "plt.xlabel('$y(t)$', fontsize=10) # Asse x\n",
    "plt.ylabel('$z(t)$', fontsize=10) # Asse y\n",
    "\n",
    "plt.scatter(x, y, s=1.5, c=colors, cmap='inferno', label='Eulero')\n",
    "plt.plot(x, y, '-', color='black', lw=0.05)\n",
    "cbar = plt.colorbar()\n",
    "cbar.set_label(label='Time steps', fontsize=10)\n",
    "\n",
    "plt.legend(fancybox=False, fontsize=10)\n",
    "\n",
    "plt.savefig(f'Eulero_yz_{n}.png', dpi=200)\n",
    "plt.close()"
   ]
  },
  {
   "cell_type": "code",
   "execution_count": null,
   "metadata": {},
   "outputs": [],
   "source": [
    "# RK2\n",
    "\n",
    "colors = np.linspace(t_start, t_end, n + 1)\n",
    "x, y = leggi_file(f\"RK2_1_{n}.txt\", f\"RK2_2_{n}.txt\")\n",
    "\n",
    "plt.title(f'Plot di $(y, z)$, steps = {n}', fontsize=12)\n",
    "\n",
    "plt.gca().tick_params(axis='both', which='major', labelsize=8)\n",
    "plt.xlabel('$y(t)$', fontsize=10) # Asse x\n",
    "plt.ylabel('$z(t)$', fontsize=10) # Asse y\n",
    "\n",
    "plt.scatter(x, y, s=1.5, c=colors, cmap='inferno', label='RK2')\n",
    "plt.plot(x, y, '-', color='black', lw=0.05)\n",
    "cbar = plt.colorbar()\n",
    "cbar.set_label(label='Time steps', fontsize=10)\n",
    "\n",
    "plt.legend(fancybox=False, fontsize=10)\n",
    "\n",
    "plt.savefig(f'RK2_yz_{n}.png', dpi=200)\n",
    "plt.close()"
   ]
  },
  {
   "cell_type": "code",
   "execution_count": null,
   "metadata": {},
   "outputs": [],
   "source": [
    "# RK4\n",
    "\n",
    "colors = np.linspace(t_start, t_end, n + 1)\n",
    "x, y = leggi_file(f\"RK4_1_{n}.txt\", f\"RK4_2_{n}.txt\")\n",
    "\n",
    "plt.title(f'Plot di $(y, z)$, steps = {n}', fontsize=12)\n",
    "\n",
    "plt.gca().tick_params(axis='both', which='major', labelsize=8)\n",
    "plt.xlabel('$y(t)$', fontsize=10) # Asse x\n",
    "plt.ylabel('$z(t)$', fontsize=10) # Asse y\n",
    "\n",
    "plt.scatter(x, y, s=1.5, c=colors, cmap='inferno', label='RK4')\n",
    "plt.plot(x, y, '-', color='black', lw=0.05)\n",
    "cbar = plt.colorbar()\n",
    "cbar.set_label(label='Time steps', fontsize=10)\n",
    "\n",
    "plt.legend(fancybox=False, fontsize=10)\n",
    "\n",
    "plt.savefig(f'RK4_yz_{n}.png', dpi=200)\n",
    "plt.close()"
   ]
  }
 ],
 "metadata": {
  "kernelspec": {
   "display_name": "labcalcolo",
   "language": "python",
   "name": "python3"
  },
  "language_info": {
   "codemirror_mode": {
    "name": "ipython",
    "version": 3
   },
   "file_extension": ".py",
   "mimetype": "text/x-python",
   "name": "python",
   "nbconvert_exporter": "python",
   "pygments_lexer": "ipython3",
   "version": "3.13.1"
  }
 },
 "nbformat": 4,
 "nbformat_minor": 2
}
