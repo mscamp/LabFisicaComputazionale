{
 "cells": [
  {
   "cell_type": "markdown",
   "metadata": {},
   "source": [
    "## Moduli"
   ]
  },
  {
   "cell_type": "code",
   "execution_count": null,
   "metadata": {},
   "outputs": [],
   "source": [
    "# Importa moduli\n",
    "import numpy as np\n",
    "import matplotlib.pyplot as plt\n",
    "from mpl_toolkits.mplot3d import Axes3D\n",
    "from matplotlib.animation import FuncAnimation\n",
    "import math"
   ]
  },
  {
   "cell_type": "markdown",
   "metadata": {},
   "source": [
    "## Variabili globali"
   ]
  },
  {
   "cell_type": "code",
   "execution_count": null,
   "metadata": {},
   "outputs": [],
   "source": [
    "n = 3000\n",
    "t_start = 0\n",
    "t_end = 70"
   ]
  },
  {
   "cell_type": "markdown",
   "metadata": {},
   "source": [
    "## Plot 3D"
   ]
  },
  {
   "cell_type": "code",
   "execution_count": null,
   "metadata": {},
   "outputs": [],
   "source": [
    "def leggi_file_3d(file_name_1, file_name_2, file_name_3):\n",
    "    file_1 = np.loadtxt(file_name_1)\n",
    "    file_2 = np.loadtxt(file_name_2)\n",
    "    file_3 = np.loadtxt(file_name_3)\n",
    "    x = file_1[:, 1]\n",
    "    y = file_2[:, 1]\n",
    "    z = file_3[:, 1]\n",
    "    return x, y, z"
   ]
  },
  {
   "cell_type": "code",
   "execution_count": null,
   "metadata": {},
   "outputs": [],
   "source": [
    "# Eulero\n",
    "fig = plt.figure()\n",
    "ax = fig.add_subplot(111, projection='3d')\n",
    "\n",
    "colors = np.linspace(t_start, t_end, n + 1)\n",
    "x, y, z = leggi_file_3d(f\"Eulero_0_{n}.txt\", f\"Eulero_1_{n}.txt\", f\"Eulero_2_{n}.txt\")\n",
    "\n",
    "ax.set_title(f'Plot di $(x, y, z)$, steps = {n}', fontsize=12)\n",
    "ax.tick_params(axis='both', which='major', labelsize=8)\n",
    "\n",
    "ax.set_xlabel('$x(t)$', fontsize=10) # Asse x\n",
    "ax.set_ylabel('$y(t)$', fontsize=10) # Asse y\n",
    "ax.set_zlabel('$z(t)$', fontsize=10) # Asse z\n",
    "\n",
    "scatter = ax.scatter(x, y, z, s=1.5, c=colors, cmap='inferno', label='Eulero')\n",
    "ax.plot(x, y, z, '-', color='black', lw=0.05)\n",
    "cbar = plt.colorbar(scatter, ax=ax, pad=0.1, shrink=0.8)\n",
    "cbar.set_label(label='Time steps', fontsize=8)\n",
    "\n",
    "ax.legend(fancybox=False, fontsize=10)\n",
    "\n",
    "plt.savefig(f'Eulero_3d_{n}.png', dpi=200)\n",
    "plt.close()"
   ]
  },
  {
   "cell_type": "code",
   "execution_count": null,
   "metadata": {},
   "outputs": [],
   "source": [
    "# RK2\n",
    "fig = plt.figure()\n",
    "ax = fig.add_subplot(111, projection='3d')\n",
    "\n",
    "colors = np.linspace(t_start, t_end, n + 1)\n",
    "x, y, z = leggi_file_3d(f\"RK2_0_{n}.txt\", f\"RK2_1_{n}.txt\", f\"RK2_2_{n}.txt\")\n",
    "\n",
    "ax.set_title(f'Plot di $(x, y, z)$, steps = {n}', fontsize=12)\n",
    "ax.tick_params(axis='both', which='major', labelsize=8)\n",
    "\n",
    "ax.set_xlabel('$x(t)$', fontsize=10) # Asse x\n",
    "ax.set_ylabel('$y(t)$', fontsize=10) # Asse y\n",
    "ax.set_zlabel('$z(t)$', fontsize=10) # Asse z\n",
    "\n",
    "scatter = ax.scatter(x, y, z, s=1.5, c=colors, cmap='inferno', label='RK2')\n",
    "ax.plot(x, y, z, '-', color='black', lw=0.05)\n",
    "cbar = plt.colorbar(scatter, ax=ax, pad=0.1, shrink=0.8)\n",
    "cbar.set_label(label='Time steps', fontsize=8)\n",
    "\n",
    "ax.legend(fancybox=False, fontsize=10)\n",
    "\n",
    "plt.savefig(f'RK2_3d_{n}.png', dpi=200)\n",
    "plt.close()"
   ]
  },
  {
   "cell_type": "code",
   "execution_count": null,
   "metadata": {},
   "outputs": [],
   "source": [
    "# RK4\n",
    "fig = plt.figure()\n",
    "ax = fig.add_subplot(111, projection='3d')\n",
    "\n",
    "colors = np.linspace(t_start, t_end, n + 1)\n",
    "x, y, z = leggi_file_3d(f\"RK4_0_{n}.txt\", f\"RK4_1_{n}.txt\", f\"RK4_2_{n}.txt\")\n",
    "\n",
    "ax.set_title(f'Plot di $(x, y, z)$, steps = {n}', fontsize=12)\n",
    "ax.tick_params(axis='both', which='major', labelsize=8)\n",
    "\n",
    "ax.set_xlabel('$x(t)$', fontsize=10) # Asse x\n",
    "ax.set_ylabel('$y(t)$', fontsize=10) # Asse y\n",
    "ax.set_zlabel('$z(t)$', fontsize=10) # Asse z\n",
    "\n",
    "scatter = ax.scatter(x, y, z, s=1.5, c=colors, cmap='inferno', label='RK4')\n",
    "ax.plot(x, y, z, '-', color='black', lw=0.05)\n",
    "cbar = plt.colorbar(scatter, ax=ax, pad=0.1, shrink=0.8)\n",
    "cbar.set_label(label='Time steps', fontsize=8)\n",
    "\n",
    "ax.legend(fancybox=False, fontsize=10)\n",
    "\n",
    "plt.savefig(f'RK4_3d_{n}.png', dpi=200)\n",
    "plt.close()"
   ]
  },
  {
   "cell_type": "markdown",
   "metadata": {},
   "source": [
    "## Animazione"
   ]
  },
  {
   "cell_type": "code",
   "execution_count": null,
   "metadata": {},
   "outputs": [],
   "source": [
    "def animate_3d_trajectory(n, t_start, t_end):\n",
    "    x, y, z = leggi_file_3d(f\"RK4_0_{n}.txt\", f\"RK4_1_{n}.txt\", f\"RK4_2_{n}.txt\")\n",
    "    c = np.linspace(t_start, t_end, len(x))\n",
    "\n",
    "    fig = plt.figure()\n",
    "    ax = fig.add_subplot(111, projection='3d')\n",
    "    ax.set_title(f'Plot di $(x, y, z)$, steps = {n}', fontsize=12)\n",
    "    ax.set_xlabel('$x(t)$', fontsize=10)\n",
    "    ax.set_ylabel('$y(t)$', fontsize=10)\n",
    "    ax.set_zlabel('$z(t)$', fontsize=10)\n",
    "\n",
    "    scatter = ax.scatter([], [], [], s=1.5, c=[], cmap='inferno', vmin=t_start, vmax=t_end)\n",
    "    line, = ax.plot([], [], [], color='black', lw=0.05)\n",
    "\n",
    "    ax.set_xlim(np.min(x), np.max(x))\n",
    "    ax.set_ylim(np.min(y), np.max(y))\n",
    "    ax.set_zlim(np.min(z), np.max(z))\n",
    "\n",
    "    def update(frame):\n",
    "        index = frame\n",
    "\n",
    "        if index < len(x):\n",
    "            scatter._offsets3d = (x[:index], y[:index], z[:index])\n",
    "            scatter.set_array(c[:index])\n",
    "            line.set_data(x[:index], y[:index])\n",
    "            line.set_3d_properties(z[:index])\n",
    "\n",
    "        return scatter, line\n",
    "\n",
    "    ani = FuncAnimation(fig, update, frames=len(x), interval=50, blit=True)\n",
    "\n",
    "    ani.save(f'RK4_3d_animation_{n}.gif', fps=30)\n",
    "    plt.close()"
   ]
  },
  {
   "cell_type": "code",
   "execution_count": null,
   "metadata": {},
   "outputs": [],
   "source": [
    "animate_3d_trajectory(n, t_start, t_end)"
   ]
  }
 ],
 "metadata": {
  "kernelspec": {
   "display_name": "labcalcolo",
   "language": "python",
   "name": "python3"
  },
  "language_info": {
   "codemirror_mode": {
    "name": "ipython",
    "version": 3
   },
   "file_extension": ".py",
   "mimetype": "text/x-python",
   "name": "python",
   "nbconvert_exporter": "python",
   "pygments_lexer": "ipython3",
   "version": "3.13.1"
  }
 },
 "nbformat": 4,
 "nbformat_minor": 2
}
