{
 "cells": [
  {
   "cell_type": "markdown",
   "metadata": {},
   "source": [
    "## Moduli"
   ]
  },
  {
   "cell_type": "code",
   "execution_count": 1,
   "metadata": {},
   "outputs": [],
   "source": [
    "# Importa moduli\n",
    "import numpy as np\n",
    "import matplotlib.pyplot as plt\n",
    "import scienceplots\n",
    "import math"
   ]
  },
  {
   "cell_type": "code",
   "execution_count": 2,
   "metadata": {},
   "outputs": [],
   "source": [
    "# Stile dei grafici\n",
    "plt.style.use(['science', 'notebook', 'grid'])"
   ]
  },
  {
   "cell_type": "markdown",
   "metadata": {},
   "source": [
    "## Variabili globali"
   ]
  },
  {
   "cell_type": "code",
   "execution_count": 3,
   "metadata": {},
   "outputs": [],
   "source": [
    "t_start = 0.0\n",
    "t_end = 2 * math.pi\n",
    "dim = 2\n",
    "spacing = 10\n",
    "max_iter = 200\n",
    "t_lin = np.linspace(t_start, t_end, 1000)"
   ]
  },
  {
   "cell_type": "markdown",
   "metadata": {},
   "source": [
    "## Soluzione analitica"
   ]
  },
  {
   "cell_type": "code",
   "execution_count": 4,
   "metadata": {},
   "outputs": [],
   "source": [
    "def analytic_sol_0(t):\n",
    "    return np.sin(t)\n",
    "\n",
    "def analytic_sol_1(t):\n",
    "    return np.cos(t)"
   ]
  },
  {
   "cell_type": "markdown",
   "metadata": {},
   "source": [
    "## Lettura dei file e plot"
   ]
  },
  {
   "cell_type": "code",
   "execution_count": 5,
   "metadata": {},
   "outputs": [],
   "source": [
    "def leggi_file(file_name):\n",
    "    file = np.loadtxt(file_name)\n",
    "    x = file[:, 0]\n",
    "    y = file[:, 1]\n",
    "    return x, y"
   ]
  },
  {
   "cell_type": "code",
   "execution_count": 6,
   "metadata": {},
   "outputs": [],
   "source": [
    "# Eulero 0\n",
    "\n",
    "for n in range(spacing, max_iter + spacing, spacing):\n",
    "    t, y = leggi_file(f\"Eulero_0_{n}.txt\")\n",
    "\n",
    "    plt.title(f'Plot di $\\\\theta(t)$, steps = {n}', fontsize=12)\n",
    "\n",
    "    plt.gca().tick_params(axis='both', which='major', labelsize=8)\n",
    "    plt.xlabel('t', fontsize=10) # Asse x\n",
    "    plt.ylabel('$\\\\theta(t)$', fontsize=10) # Asse y\n",
    "\n",
    "    plt.plot(t_lin, analytic_sol_0(t_lin), '-', color='blue', lw=2.5, label='$\\\\sin(t)$')\n",
    "    plt.plot(t, y, '-', color='red', lw=1.0, label='Eulero')\n",
    "\n",
    "    plt.legend(fancybox=False, fontsize=10)\n",
    "\n",
    "    plt.savefig(f'Eulero_0_{n}.png', dpi=200)\n",
    "    plt.close()"
   ]
  },
  {
   "cell_type": "code",
   "execution_count": 7,
   "metadata": {},
   "outputs": [],
   "source": [
    "# Eulero 1\n",
    "\n",
    "for n in range(spacing, max_iter + spacing, spacing):\n",
    "    t, y = leggi_file(f\"Eulero_1_{n}.txt\")\n",
    "\n",
    "    plt.title(f'Plot di $\\\\theta\\'(t)$, steps = {n}', fontsize=12)\n",
    "\n",
    "    plt.gca().tick_params(axis='both', which='major', labelsize=8)\n",
    "    plt.xlabel('t', fontsize=10) # Asse x\n",
    "    plt.ylabel('${\\\\theta}\\'(t)$', fontsize=10) # Asse y\n",
    "\n",
    "    plt.plot(t_lin, analytic_sol_1(t_lin), '-', color='blue', lw=2.5, label='$\\\\cos(t)$')\n",
    "    plt.plot(t, y, '-', color='red', lw=1.0, label='Eulero')\n",
    "\n",
    "    plt.legend(fancybox=False, fontsize=10)\n",
    "\n",
    "    plt.savefig(f'Eulero_1_{n}.png', dpi=200)\n",
    "    plt.close()"
   ]
  },
  {
   "cell_type": "code",
   "execution_count": 8,
   "metadata": {},
   "outputs": [],
   "source": [
    "# RK2 0\n",
    "\n",
    "for n in range(spacing, max_iter + spacing, spacing):\n",
    "    t, y = leggi_file(f\"RK2_0_{n}.txt\")\n",
    "\n",
    "    plt.title(f'Plot di $\\\\theta(t)$, steps = {n}', fontsize=12)\n",
    "\n",
    "    plt.gca().tick_params(axis='both', which='major', labelsize=8)\n",
    "    plt.xlabel('t', fontsize=10) # Asse x\n",
    "    plt.ylabel('$\\\\theta(t)$', fontsize=10) # Asse y\n",
    "\n",
    "    plt.plot(t_lin, analytic_sol_0(t_lin), '-', color='blue', lw=2.5, label='$\\\\sin(t)$')\n",
    "    plt.plot(t, y, '-', color='red', lw=1.0, label='RK2')\n",
    "\n",
    "    plt.legend(fancybox=False, fontsize=10)\n",
    "\n",
    "    plt.savefig(f'RK2_0_{n}.png', dpi=200)\n",
    "    plt.close()"
   ]
  },
  {
   "cell_type": "code",
   "execution_count": 9,
   "metadata": {},
   "outputs": [],
   "source": [
    "# RK2 1\n",
    "\n",
    "for n in range(spacing, max_iter + spacing, spacing):\n",
    "    t, y = leggi_file(f\"RK2_1_{n}.txt\")\n",
    "\n",
    "    plt.title(f'Plot di $\\\\theta\\'(t)$, steps = {n}', fontsize=12)\n",
    "\n",
    "    plt.gca().tick_params(axis='both', which='major', labelsize=8)\n",
    "    plt.xlabel('t', fontsize=10) # Asse x\n",
    "    plt.ylabel('${\\\\theta}\\'(t)$', fontsize=10) # Asse y\n",
    "\n",
    "    plt.plot(t_lin, analytic_sol_1(t_lin), '-', color='blue', lw=2.5, label='$\\\\cos(t)$')\n",
    "    plt.plot(t, y, '-', color='red', lw=1.0, label='RK2')\n",
    "\n",
    "    plt.legend(fancybox=False, fontsize=10)\n",
    "\n",
    "    plt.savefig(f'RK2_1_{n}.png', dpi=200)\n",
    "    plt.close()"
   ]
  },
  {
   "cell_type": "code",
   "execution_count": 10,
   "metadata": {},
   "outputs": [],
   "source": [
    "# RK4 0\n",
    "for n in range(spacing, max_iter + spacing, spacing):\n",
    "    t, y = leggi_file(f\"RK4_0_{n}.txt\")\n",
    "\n",
    "    plt.title(f'Plot di $\\\\theta(t)$, steps = {n}', fontsize=12)\n",
    "\n",
    "    plt.gca().tick_params(axis='both', which='major', labelsize=8)\n",
    "    plt.xlabel('t', fontsize=10) # Asse x\n",
    "    plt.ylabel('$\\\\theta(t)$', fontsize=10) # Asse y\n",
    "\n",
    "    plt.plot(t_lin, analytic_sol_0(t_lin), '-', color='blue', lw=2.5, label='$\\\\sin(t)$')\n",
    "    plt.plot(t, y, '-', color='red', lw=1.0, label='RK4')\n",
    "\n",
    "    plt.legend(fancybox=False, fontsize=10)\n",
    "\n",
    "    plt.savefig(f'RK4_0_{n}.png', dpi=200)\n",
    "    plt.close()"
   ]
  },
  {
   "cell_type": "code",
   "execution_count": 11,
   "metadata": {},
   "outputs": [],
   "source": [
    "# RK4 1\n",
    "\n",
    "for n in range(spacing, max_iter + spacing, spacing):\n",
    "    t, y = leggi_file(f\"RK4_1_{n}.txt\")\n",
    "\n",
    "    plt.title(f'Plot di $\\\\theta\\'(t)$, steps = {n}', fontsize=12)\n",
    "\n",
    "    plt.gca().tick_params(axis='both', which='major', labelsize=8)\n",
    "    plt.xlabel('t', fontsize=10) # Asse x\n",
    "    plt.ylabel('${\\\\theta}\\'(t)$', fontsize=10) # Asse y\n",
    "\n",
    "    plt.plot(t_lin, analytic_sol_1(t_lin), '-', color='blue', lw=2.5, label='$\\\\cos(t)$')\n",
    "    plt.plot(t, y, '-', color='red', lw=1.0, label='RK4')\n",
    "\n",
    "    plt.legend(fancybox=False, fontsize=10)\n",
    "\n",
    "    plt.savefig(f'RK4_1_{n}.png', dpi=200)\n",
    "    plt.close()"
   ]
  }
 ],
 "metadata": {
  "kernelspec": {
   "display_name": "labcalcolo",
   "language": "python",
   "name": "python3"
  },
  "language_info": {
   "codemirror_mode": {
    "name": "ipython",
    "version": 3
   },
   "file_extension": ".py",
   "mimetype": "text/x-python",
   "name": "python",
   "nbconvert_exporter": "python",
   "pygments_lexer": "ipython3",
   "version": "3.13.1"
  }
 },
 "nbformat": 4,
 "nbformat_minor": 2
}
