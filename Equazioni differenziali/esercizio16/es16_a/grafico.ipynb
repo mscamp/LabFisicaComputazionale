{
 "cells": [
  {
   "cell_type": "markdown",
   "metadata": {},
   "source": [
    "## Moduli"
   ]
  },
  {
   "cell_type": "code",
   "execution_count": 1,
   "metadata": {},
   "outputs": [],
   "source": [
    "# Importa moduli\n",
    "import numpy as np\n",
    "import matplotlib.pyplot as plt\n",
    "import scienceplots\n",
    "import math"
   ]
  },
  {
   "cell_type": "code",
   "execution_count": 2,
   "metadata": {},
   "outputs": [],
   "source": [
    "# Stile dei grafici\n",
    "plt.style.use(['science', 'notebook', 'grid'])"
   ]
  },
  {
   "cell_type": "markdown",
   "metadata": {},
   "source": [
    "## Variabili globali"
   ]
  },
  {
   "cell_type": "code",
   "execution_count": 3,
   "metadata": {},
   "outputs": [],
   "source": [
    "spacing = 10\n",
    "max_iter = 200"
   ]
  },
  {
   "cell_type": "markdown",
   "metadata": {},
   "source": [
    "## Lettura dei file e plot"
   ]
  },
  {
   "cell_type": "code",
   "execution_count": 4,
   "metadata": {},
   "outputs": [],
   "source": [
    "def leggi_file(file_name):\n",
    "    file = np.loadtxt(file_name)\n",
    "    x = file[:, 0]\n",
    "    y = file[:, 1]\n",
    "    return x, y"
   ]
  },
  {
   "cell_type": "code",
   "execution_count": 5,
   "metadata": {},
   "outputs": [],
   "source": [
    "# Eulero 0\n",
    "\n",
    "for n in range(spacing, max_iter + spacing, spacing):\n",
    "    t, y = leggi_file(f\"Eulero_0_{n}.txt\")\n",
    "\n",
    "    plt.title(f'Plot di $\\\\theta(t)$, steps = {n}', fontsize=12)\n",
    "\n",
    "    plt.gca().tick_params(axis='both', which='major', labelsize=8)\n",
    "    plt.xlabel('t', fontsize=10) # Asse x\n",
    "    plt.ylabel('$\\\\theta(t)$', fontsize=10) # Asse y\n",
    "\n",
    "    plt.plot(t, y, '-', color='red', lw=1.0, label='Eulero')\n",
    "\n",
    "    plt.legend(fancybox=False, fontsize=10)\n",
    "\n",
    "    plt.savefig(f'Eulero_0_{n}.png', dpi=200)\n",
    "    plt.close()"
   ]
  },
  {
   "cell_type": "code",
   "execution_count": 6,
   "metadata": {},
   "outputs": [],
   "source": [
    "# Eulero 1\n",
    "\n",
    "for n in range(spacing, max_iter + spacing, spacing):\n",
    "    t, y = leggi_file(f\"Eulero_1_{n}.txt\")\n",
    "\n",
    "    plt.title(f'Plot di $\\\\theta\\'(t)$, steps = {n}', fontsize=12)\n",
    "\n",
    "    plt.gca().tick_params(axis='both', which='major', labelsize=8)\n",
    "    plt.xlabel('t', fontsize=10) # Asse x\n",
    "    plt.ylabel('${\\\\theta}\\'(t)$', fontsize=10) # Asse y\n",
    "\n",
    "    plt.plot(t, y, '-', color='red', lw=1.0, label='Eulero')\n",
    "\n",
    "    plt.legend(fancybox=False, fontsize=10)\n",
    "\n",
    "    plt.savefig(f'Eulero_1_{n}.png', dpi=200)\n",
    "    plt.close()"
   ]
  },
  {
   "cell_type": "code",
   "execution_count": 7,
   "metadata": {},
   "outputs": [],
   "source": [
    "# RK2 0\n",
    "\n",
    "for n in range(spacing, max_iter + spacing, spacing):\n",
    "    t, y = leggi_file(f\"RK2_0_{n}.txt\")\n",
    "\n",
    "    plt.title(f'Plot di $\\\\theta(t)$, steps = {n}', fontsize=12)\n",
    "\n",
    "    plt.gca().tick_params(axis='both', which='major', labelsize=8)\n",
    "    plt.xlabel('t', fontsize=10) # Asse x\n",
    "    plt.ylabel('$\\\\theta(t)$', fontsize=10) # Asse y\n",
    "\n",
    "    plt.plot(t, y, '-', color='red', lw=1.0, label='RK2')\n",
    "\n",
    "    plt.legend(fancybox=False, fontsize=10)\n",
    "\n",
    "    plt.savefig(f'RK2_0_{n}.png', dpi=200)\n",
    "    plt.close()"
   ]
  },
  {
   "cell_type": "code",
   "execution_count": 8,
   "metadata": {},
   "outputs": [],
   "source": [
    "# RK2 1\n",
    "\n",
    "for n in range(spacing, max_iter + spacing, spacing):\n",
    "    t, y = leggi_file(f\"RK2_1_{n}.txt\")\n",
    "\n",
    "    plt.title(f'Plot di $\\\\theta\\'(t)$, steps = {n}', fontsize=12)\n",
    "\n",
    "    plt.gca().tick_params(axis='both', which='major', labelsize=8)\n",
    "    plt.xlabel('t', fontsize=10) # Asse x\n",
    "    plt.ylabel('${\\\\theta}\\'(t)$', fontsize=10) # Asse y\n",
    "\n",
    "    plt.plot(t, y, '-', color='red', lw=1.0, label='RK2')\n",
    "\n",
    "    plt.legend(fancybox=False, fontsize=10)\n",
    "\n",
    "    plt.savefig(f'RK2_1_{n}.png', dpi=200)\n",
    "    plt.close()"
   ]
  },
  {
   "cell_type": "code",
   "execution_count": 9,
   "metadata": {},
   "outputs": [],
   "source": [
    "# RK4 0\n",
    "for n in range(spacing, max_iter + spacing, spacing):\n",
    "    t, y = leggi_file(f\"RK4_0_{n}.txt\")\n",
    "\n",
    "    plt.title(f'Plot di $\\\\theta(t)$, steps = {n}', fontsize=12)\n",
    "\n",
    "    plt.gca().tick_params(axis='both', which='major', labelsize=8)\n",
    "    plt.xlabel('t', fontsize=10) # Asse x\n",
    "    plt.ylabel('$\\\\theta(t)$', fontsize=10) # Asse y\n",
    "\n",
    "    plt.plot(t, y, '-', color='red', lw=1.0, label='RK4')\n",
    "\n",
    "    plt.legend(fancybox=False, fontsize=10)\n",
    "\n",
    "    plt.savefig(f'RK4_0_{n}.png', dpi=200)\n",
    "    plt.close()"
   ]
  },
  {
   "cell_type": "code",
   "execution_count": 10,
   "metadata": {},
   "outputs": [],
   "source": [
    "# RK4 1\n",
    "\n",
    "for n in range(spacing, max_iter + spacing, spacing):\n",
    "    t, y = leggi_file(f\"RK4_1_{n}.txt\")\n",
    "\n",
    "    plt.title(f'Plot di $\\\\theta\\'(t)$, steps = {n}', fontsize=12)\n",
    "\n",
    "    plt.gca().tick_params(axis='both', which='major', labelsize=8)\n",
    "    plt.xlabel('t', fontsize=10) # Asse x\n",
    "    plt.ylabel('${\\\\theta}\\'(t)$', fontsize=10) # Asse y\n",
    "\n",
    "    plt.plot(t, y, '-', color='red', lw=1.0, label='RK4')\n",
    "\n",
    "    plt.legend(fancybox=False, fontsize=10)\n",
    "\n",
    "    plt.savefig(f'RK4_1_{n}.png', dpi=200)\n",
    "    plt.close()"
   ]
  },
  {
   "cell_type": "markdown",
   "metadata": {},
   "source": [
    "## Plot del piano delle fasi $(\\theta, \\dot{\\theta})$"
   ]
  },
  {
   "cell_type": "code",
   "execution_count": 11,
   "metadata": {},
   "outputs": [],
   "source": [
    "def leggi_file_2(file_name_1, file_name_2):\n",
    "    file_1 = np.loadtxt(file_name_1)\n",
    "    file_2 = np.loadtxt(file_name_2)\n",
    "    x = file_1[:, 1]\n",
    "    y = file_2[:, 1]\n",
    "    return x, y"
   ]
  },
  {
   "cell_type": "code",
   "execution_count": 12,
   "metadata": {},
   "outputs": [],
   "source": [
    "# Eulero\n",
    "\n",
    "for n in range(spacing, max_iter + spacing, spacing):\n",
    "    theta, theta_dot = leggi_file_2(f\"Eulero_0_{n}.txt\", f\"Eulero_1_{n}.txt\")\n",
    "\n",
    "    plt.title(f'Plot di $\\\\theta\\'(\\\\theta)$, steps = {n}', fontsize=12)\n",
    "\n",
    "    plt.gca().tick_params(axis='both', which='major', labelsize=8)\n",
    "    plt.xlabel('$\\\\theta$', fontsize=10) # Asse x\n",
    "    plt.ylabel('${\\\\theta}\\'(\\\\theta)$', fontsize=10) # Asse y\n",
    "\n",
    "    plt.plot(theta, theta_dot, '-', color='red', lw=1.0, label='Eulero')\n",
    "\n",
    "    plt.legend(fancybox=False, fontsize=10)\n",
    "\n",
    "    plt.savefig(f'Eulero_phase_plane_{n}.png', dpi=200)\n",
    "    plt.close()"
   ]
  },
  {
   "cell_type": "code",
   "execution_count": 13,
   "metadata": {},
   "outputs": [],
   "source": [
    "# RK2\n",
    "\n",
    "for n in range(spacing, max_iter + spacing, spacing):\n",
    "    theta, theta_dot = leggi_file_2(f\"RK2_0_{n}.txt\", f\"RK2_1_{n}.txt\")\n",
    "\n",
    "    plt.title(f'Plot di $\\\\theta\\'(\\\\theta)$, steps = {n}', fontsize=12)\n",
    "\n",
    "    plt.gca().tick_params(axis='both', which='major', labelsize=8)\n",
    "    plt.xlabel('$\\\\theta$', fontsize=10) # Asse x\n",
    "    plt.ylabel('${\\\\theta}\\'(\\\\theta)$', fontsize=10) # Asse y\n",
    "\n",
    "    plt.plot(theta, theta_dot, '-', color='red', lw=1.0, label='RK2')\n",
    "\n",
    "    plt.legend(fancybox=False, fontsize=10)\n",
    "\n",
    "    plt.savefig(f'RK2_phase_plane_{n}.png', dpi=200)\n",
    "    plt.close()"
   ]
  },
  {
   "cell_type": "code",
   "execution_count": 14,
   "metadata": {},
   "outputs": [],
   "source": [
    "# RK4\n",
    "\n",
    "for n in range(spacing, max_iter + spacing, spacing):\n",
    "    theta, theta_dot = leggi_file_2(f\"RK4_0_{n}.txt\", f\"RK4_1_{n}.txt\")\n",
    "\n",
    "    plt.title(f'Plot di $\\\\theta\\'(\\\\theta)$, steps = {n}', fontsize=12)\n",
    "\n",
    "    plt.gca().tick_params(axis='both', which='major', labelsize=8)\n",
    "    plt.xlabel('$\\\\theta$', fontsize=10) # Asse x\n",
    "    plt.ylabel('${\\\\theta}\\'(\\\\theta)$', fontsize=10) # Asse y\n",
    "\n",
    "    plt.plot(theta, theta_dot, '-', color='red', lw=1.0, label='RK4')\n",
    "\n",
    "    plt.legend(fancybox=False, fontsize=10)\n",
    "\n",
    "    plt.savefig(f'RK4_phase_plane_{n}.png', dpi=200)\n",
    "    plt.close()"
   ]
  }
 ],
 "metadata": {
  "kernelspec": {
   "display_name": "labcalcolo",
   "language": "python",
   "name": "python3"
  },
  "language_info": {
   "codemirror_mode": {
    "name": "ipython",
    "version": 3
   },
   "file_extension": ".py",
   "mimetype": "text/x-python",
   "name": "python",
   "nbconvert_exporter": "python",
   "pygments_lexer": "ipython3",
   "version": "3.13.1"
  }
 },
 "nbformat": 4,
 "nbformat_minor": 2
}
