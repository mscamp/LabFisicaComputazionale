{
 "cells": [
  {
   "cell_type": "markdown",
   "id": "0",
   "metadata": {},
   "source": [
    "## Moduli"
   ]
  },
  {
   "cell_type": "code",
   "execution_count": null,
   "id": "1",
   "metadata": {},
   "outputs": [],
   "source": [
    "# Importa moduli\n",
    "import numpy as np\n",
    "import matplotlib.pyplot as plt\n",
    "import scienceplots\n",
    "import math"
   ]
  },
  {
   "cell_type": "code",
   "execution_count": null,
   "id": "2",
   "metadata": {},
   "outputs": [],
   "source": [
    "# Stile dei grafici\n",
    "plt.style.use(['science', 'notebook', 'grid'])"
   ]
  },
  {
   "cell_type": "markdown",
   "id": "3",
   "metadata": {},
   "source": [
    "# PARTE 2"
   ]
  },
  {
   "cell_type": "markdown",
   "id": "4",
   "metadata": {},
   "source": [
    "## Lettura file di testo"
   ]
  },
  {
   "cell_type": "markdown",
   "id": "5",
   "metadata": {},
   "source": [
    "### Delta N"
   ]
  },
  {
   "cell_type": "code",
   "execution_count": null,
   "id": "6",
   "metadata": {},
   "outputs": [],
   "source": [
    "deltaN_precisione_singola = []\n",
    "\n",
    "with open('deltaN_precisione_singola.txt', 'r') as f:\n",
    "    while True:\n",
    "        line = f.readline()\n",
    "        line = line.strip()\n",
    "        if not line:\n",
    "            break\n",
    "        deltaN_precisione_singola.append(float(line))\n",
    "print(deltaN_precisione_singola)"
   ]
  },
  {
   "cell_type": "code",
   "execution_count": null,
   "id": "7",
   "metadata": {},
   "outputs": [],
   "source": [
    "deltaN_precisione_doppia = []\n",
    "\n",
    "with open('deltaN_precisione_doppia.txt', 'r') as f:\n",
    "    while True:\n",
    "        line = f.readline()\n",
    "        line = line.strip()\n",
    "        if not line:\n",
    "            break\n",
    "        deltaN_precisione_doppia.append(float(line))\n",
    "print(deltaN_precisione_doppia)"
   ]
  },
  {
   "cell_type": "code",
   "execution_count": null,
   "id": "8",
   "metadata": {},
   "outputs": [],
   "source": [
    "deltaN_precisione_quadrupla = []\n",
    "\n",
    "with open('deltaN_precisione_quadrupla.txt', 'r') as f:\n",
    "    while True:\n",
    "        line = f.readline()\n",
    "        line = line.strip()\n",
    "        if not line:\n",
    "            break\n",
    "        deltaN_precisione_quadrupla.append(np.float128(line))\n",
    "print(deltaN_precisione_quadrupla)"
   ]
  },
  {
   "cell_type": "markdown",
   "id": "9",
   "metadata": {},
   "source": [
    "### Chi N + 1"
   ]
  },
  {
   "cell_type": "code",
   "execution_count": null,
   "id": "10",
   "metadata": {},
   "outputs": [],
   "source": [
    "chiN_precisione_singola = []\n",
    "\n",
    "with open('chiNplus1_precisione_singola.txt', 'r') as f:\n",
    "    while True:\n",
    "        line = f.readline()\n",
    "        line = line.strip()\n",
    "        if not line:\n",
    "            break\n",
    "        chiN_precisione_singola.append(float(line))\n",
    "print(chiN_precisione_singola)"
   ]
  },
  {
   "cell_type": "code",
   "execution_count": null,
   "id": "11",
   "metadata": {},
   "outputs": [],
   "source": [
    "chiN_precisione_doppia = []\n",
    "\n",
    "with open('chiNplus1_precisione_doppia.txt', 'r') as f:\n",
    "    while True:\n",
    "        line = f.readline()\n",
    "        line = line.strip()\n",
    "        if not line:\n",
    "            break\n",
    "        chiN_precisione_doppia.append(float(line))\n",
    "print(chiN_precisione_doppia)"
   ]
  },
  {
   "cell_type": "code",
   "execution_count": null,
   "id": "12",
   "metadata": {},
   "outputs": [],
   "source": [
    "chiN_precisione_quadrupla = []\n",
    "\n",
    "with open('chiNplus1_precisione_quadrupla.txt', 'r') as f:\n",
    "    while True:\n",
    "        line = f.readline()\n",
    "        line = line.strip()\n",
    "        if not line:\n",
    "            break\n",
    "        chiN_precisione_quadrupla.append(np.float128(line))\n",
    "print(chiN_precisione_quadrupla)"
   ]
  },
  {
   "cell_type": "markdown",
   "id": "13",
   "metadata": {},
   "source": [
    "### Epsilon"
   ]
  },
  {
   "cell_type": "code",
   "execution_count": null,
   "id": "14",
   "metadata": {},
   "outputs": [],
   "source": [
    "epsilon_precisione_singola = []\n",
    "\n",
    "with open('epsilon_precisione_singola.txt', 'r') as f:\n",
    "    while True:\n",
    "        line = f.readline()\n",
    "        line = line.strip()\n",
    "        if not line:\n",
    "            break\n",
    "        epsilon_precisione_singola.append(float(line))\n",
    "print(epsilon_precisione_singola)"
   ]
  },
  {
   "cell_type": "code",
   "execution_count": null,
   "id": "15",
   "metadata": {},
   "outputs": [],
   "source": [
    "epsilon_precisione_doppia = []\n",
    "\n",
    "with open('epsilon_precisione_doppia.txt', 'r') as f:\n",
    "    while True:\n",
    "        line = f.readline()\n",
    "        line = line.strip()\n",
    "        if not line:\n",
    "            break\n",
    "        epsilon_precisione_doppia.append(float(line))\n",
    "print(epsilon_precisione_doppia)"
   ]
  },
  {
   "cell_type": "code",
   "execution_count": null,
   "id": "16",
   "metadata": {},
   "outputs": [],
   "source": [
    "epsilon_precisione_quadrupla = []\n",
    "\n",
    "with open('epsilon_precisione_quadrupla.txt', 'r') as f:\n",
    "    while True:\n",
    "        line = f.readline()\n",
    "        line = line.strip()\n",
    "        if not line:\n",
    "            break\n",
    "        epsilon_precisione_quadrupla.append(np.float128(line))\n",
    "print(epsilon_precisione_quadrupla)"
   ]
  },
  {
   "cell_type": "markdown",
   "id": "17",
   "metadata": {},
   "source": [
    "## Plot degli scarti"
   ]
  },
  {
   "cell_type": "code",
   "execution_count": null,
   "id": "18",
   "metadata": {},
   "outputs": [],
   "source": [
    "N_min = 5\n",
    "N_max = 100\n",
    "step = 5\n",
    "x = [n for n in range(N_min, N_max + step, step)]\n",
    "y1 = deltaN_precisione_singola\n",
    "y2 = deltaN_precisione_doppia\n",
    "y3 = deltaN_precisione_quadrupla"
   ]
  },
  {
   "cell_type": "code",
   "execution_count": null,
   "id": "19",
   "metadata": {},
   "outputs": [],
   "source": [
    "plt.title('Plot di Delta N in funzione di N', fontsize=12)\n",
    "\n",
    "plt.gca().tick_params(axis='both', which='major', labelsize=8)\n",
    "plt.xlabel('N', fontsize=10) # Asse x\n",
    "plt.ylabel('ΔN', fontsize=10) # Asse y\n",
    "plt.xticks(x)\n",
    "plt.yscale('log')\n",
    "\n",
    "plt.plot(x, y1, 'o--', color='green', lw=1.5, ms=4, label='Precisione singola')\n",
    "plt.plot(x, y2, 'o--', color='blue', lw=1.5, ms=4, label='Precisione doppia')\n",
    "plt.plot(x, y3, 'o--', color='red', lw=1, ms=4, label='Precisione quadrupla')\n",
    "\n",
    "plt.legend(fancybox=False, fontsize=10)\n",
    "\n",
    "plt.savefig('deltaN_grafico.png', dpi=200)\n",
    "plt.show()"
   ]
  },
  {
   "cell_type": "markdown",
   "id": "20",
   "metadata": {},
   "source": [
    "## Plot di Chi N in funzione di N"
   ]
  },
  {
   "cell_type": "code",
   "execution_count": null,
   "id": "21",
   "metadata": {},
   "outputs": [],
   "source": [
    "y1 = [abs(elem) for elem in chiN_precisione_singola]\n",
    "y2 = [abs(elem) for elem in chiN_precisione_doppia]\n",
    "y3 = [abs(elem) for elem in chiN_precisione_quadrupla]"
   ]
  },
  {
   "cell_type": "code",
   "execution_count": null,
   "id": "22",
   "metadata": {},
   "outputs": [],
   "source": [
    "plt.title('Plot di | Chi(N+1) | in funzione di N', fontsize=12)\n",
    "\n",
    "plt.gca().tick_params(axis='both', which='major', labelsize=8)\n",
    "plt.xlabel('N', fontsize=10) # Asse x\n",
    "plt.ylabel('| Chi(N+1) |', fontsize=10) # Asse y\n",
    "plt.xticks(x)\n",
    "plt.yscale('log')\n",
    "\n",
    "plt.plot(x, y1, 'o--', color='green', lw=1.5, ms=4, label='Precisione singola')\n",
    "plt.plot(x, y2, 'o--', color='blue', lw=1.5, ms=4, label='Precisione doppia')\n",
    "plt.plot(x, y3, 'o--', color='red', lw=1, ms=4, label='Precisione quadrupla')\n",
    "\n",
    "plt.legend(fancybox=False, fontsize=10)\n",
    "\n",
    "plt.savefig('chiNplus1_grafico.png', dpi=200)\n",
    "plt.show()"
   ]
  },
  {
   "cell_type": "markdown",
   "id": "23",
   "metadata": {},
   "source": [
    "## Plot di epsilon in funzione di N"
   ]
  },
  {
   "cell_type": "code",
   "execution_count": null,
   "id": "24",
   "metadata": {},
   "outputs": [],
   "source": [
    "y1 = epsilon_precisione_singola\n",
    "y2 = epsilon_precisione_doppia\n",
    "y3 = epsilon_precisione_quadrupla"
   ]
  },
  {
   "cell_type": "code",
   "execution_count": null,
   "id": "25",
   "metadata": {},
   "outputs": [],
   "source": [
    "plt.title('Plot di Epsilon in funzione di N', fontsize=12)\n",
    "\n",
    "plt.gca().tick_params(axis='both', which='major', labelsize=8)\n",
    "plt.xlabel('N', fontsize=10) # Asse x\n",
    "plt.ylabel('Epsilon(N)', fontsize=10) # Asse y\n",
    "plt.xticks(x)\n",
    "plt.yscale('log')\n",
    "\n",
    "plt.plot(x, y1, 'o--', color='green', lw=1.5, ms=4, label='Precisione singola')\n",
    "plt.plot(x, y2, 'o--', color='blue', lw=1.5, ms=4, label='Precisione doppia')\n",
    "plt.plot(x, y3, 'o--', color='red', lw=1, ms=4, label='Precisione quadrupla')\n",
    "\n",
    "plt.legend(fancybox=False, fontsize=10)\n",
    "\n",
    "plt.savefig('epsilonN_grafico.png', dpi=200)\n",
    "plt.show()"
   ]
  },
  {
   "cell_type": "markdown",
   "id": "26",
   "metadata": {},
   "source": [
    "# PARTE 3"
   ]
  },
  {
   "cell_type": "markdown",
   "id": "27",
   "metadata": {},
   "source": [
    "## Lettura file di testo"
   ]
  },
  {
   "cell_type": "markdown",
   "id": "28",
   "metadata": {},
   "source": [
    "### Delta N"
   ]
  },
  {
   "cell_type": "code",
   "execution_count": null,
   "id": "29",
   "metadata": {},
   "outputs": [],
   "source": [
    "deltaN_fixed_precisione_singola = []\n",
    "\n",
    "with open('deltaN_fixed_precisione_singola.txt', 'r') as f:\n",
    "    while True:\n",
    "        line = f.readline()\n",
    "        line = line.strip()\n",
    "        if not line:\n",
    "            break\n",
    "        deltaN_fixed_precisione_singola.append(float(line))\n",
    "print(deltaN_fixed_precisione_singola)"
   ]
  },
  {
   "cell_type": "code",
   "execution_count": null,
   "id": "30",
   "metadata": {},
   "outputs": [],
   "source": [
    "deltaN_fixed_precisione_quadrupla = []\n",
    "\n",
    "with open('deltaN_fixed_precisione_quadrupla.txt', 'r') as f:\n",
    "    while True:\n",
    "        line = f.readline()\n",
    "        line = line.strip()\n",
    "        if not line:\n",
    "            break\n",
    "        deltaN_fixed_precisione_quadrupla.append(np.float128(line))\n",
    "print(deltaN_fixed_precisione_quadrupla)"
   ]
  },
  {
   "cell_type": "markdown",
   "id": "31",
   "metadata": {},
   "source": [
    "## Chi N+1"
   ]
  },
  {
   "cell_type": "code",
   "execution_count": null,
   "id": "32",
   "metadata": {},
   "outputs": [],
   "source": [
    "chiN_fixed_precisione_singola = []\n",
    "\n",
    "with open('chiNplus1_fixed_precisione_singola.txt', 'r') as f:\n",
    "    while True:\n",
    "        line = f.readline()\n",
    "        line = line.strip()\n",
    "        if not line:\n",
    "            break\n",
    "        chiN_fixed_precisione_singola.append(float(line))\n",
    "print(chiN_fixed_precisione_singola)"
   ]
  },
  {
   "cell_type": "code",
   "execution_count": null,
   "id": "33",
   "metadata": {},
   "outputs": [],
   "source": [
    "chiN_fixed_precisione_quadrupla = []\n",
    "\n",
    "with open('chiNplus1_fixed_precisione_quadrupla.txt', 'r') as f:\n",
    "    while True:\n",
    "        line = f.readline()\n",
    "        line = line.strip()\n",
    "        if not line:\n",
    "            break\n",
    "        chiN_fixed_precisione_quadrupla.append(np.float128(line))\n",
    "print(chiN_fixed_precisione_quadrupla)"
   ]
  },
  {
   "cell_type": "markdown",
   "id": "34",
   "metadata": {},
   "source": [
    "## Plot degli scarti"
   ]
  },
  {
   "cell_type": "code",
   "execution_count": null,
   "id": "35",
   "metadata": {},
   "outputs": [],
   "source": [
    "y1 = deltaN_fixed_precisione_singola\n",
    "y2 = deltaN_fixed_precisione_quadrupla"
   ]
  },
  {
   "cell_type": "code",
   "execution_count": null,
   "id": "36",
   "metadata": {},
   "outputs": [],
   "source": [
    "plt.title('Plot di Delta N in funzione di N (Epsilon fissato)', fontsize=12)\n",
    "\n",
    "plt.gca().tick_params(axis='both', which='major', labelsize=8)\n",
    "plt.xlabel('N', fontsize=10) # Asse x\n",
    "plt.ylabel('ΔN', fontsize=10) # Asse y\n",
    "plt.xticks(x)\n",
    "plt.yscale('log')\n",
    "\n",
    "plt.plot(x, y1, 'o--', color='green', lw=1.5, ms=4, label='Precisione singola')\n",
    "plt.plot(x, y2, 'o--', color='red', lw=1, ms=4, label='Precisione quadrupla')\n",
    "\n",
    "plt.legend(fancybox=False, fontsize=10)\n",
    "\n",
    "plt.savefig('deltaN_fixed_grafico.png', dpi=200)\n",
    "plt.show()"
   ]
  },
  {
   "cell_type": "markdown",
   "id": "37",
   "metadata": {},
   "source": [
    "## Plot di Chi N in funzione di N"
   ]
  },
  {
   "cell_type": "code",
   "execution_count": null,
   "id": "38",
   "metadata": {},
   "outputs": [],
   "source": [
    "y1 = [abs(elem) for elem in chiN_fixed_precisione_singola]\n",
    "y2 = [abs(elem) for elem in chiN_fixed_precisione_quadrupla]"
   ]
  },
  {
   "cell_type": "code",
   "execution_count": null,
   "id": "39",
   "metadata": {},
   "outputs": [],
   "source": [
    "plt.title('Plot di | Chi(N+1) | in funzione di N (Epsilon fissato)', fontsize=12)\n",
    "\n",
    "plt.gca().tick_params(axis='both', which='major', labelsize=8)\n",
    "plt.xlabel('N', fontsize=10) # Asse x\n",
    "plt.ylabel('| Chi(N+1) |', fontsize=10) # Asse y\n",
    "plt.xticks(x)\n",
    "plt.yscale('log')\n",
    "\n",
    "plt.plot(x, y1, 'o--', color='green', lw=1.5, ms=4, label='Precisione singola')\n",
    "plt.plot(x, y2, 'o--', color='red', lw=1, ms=4, label='Precisione quadrupla')\n",
    "\n",
    "plt.legend(fancybox=False, fontsize=10)\n",
    "\n",
    "plt.savefig('chiNplus1_fixed_grafico.png', dpi=200)\n",
    "plt.show()"
   ]
  }
 ],
 "metadata": {
  "kernelspec": {
   "display_name": "labcalcolo",
   "language": "python",
   "name": "python3"
  },
  "language_info": {
   "codemirror_mode": {
    "name": "ipython",
    "version": 3
   },
   "file_extension": ".py",
   "mimetype": "text/x-python",
   "name": "python",
   "nbconvert_exporter": "python",
   "pygments_lexer": "ipython3",
   "version": "3.13.1"
  }
 },
 "nbformat": 4,
 "nbformat_minor": 5
}
