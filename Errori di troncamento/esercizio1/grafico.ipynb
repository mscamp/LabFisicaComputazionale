{
 "cells": [
  {
   "cell_type": "markdown",
   "id": "0",
   "metadata": {},
   "source": [
    "## Moduli"
   ]
  },
  {
   "cell_type": "code",
   "execution_count": null,
   "id": "1",
   "metadata": {},
   "outputs": [],
   "source": [
    "# Importa moduli\n",
    "import numpy as np\n",
    "import matplotlib.pyplot as plt\n",
    "import scienceplots"
   ]
  },
  {
   "cell_type": "code",
   "execution_count": null,
   "id": "2",
   "metadata": {},
   "outputs": [],
   "source": [
    "# Stile dei grafici\n",
    "plt.style.use(['science', 'notebook', 'grid'])"
   ]
  },
  {
   "cell_type": "markdown",
   "id": "3",
   "metadata": {},
   "source": [
    "## Somma diretta (confronto single/double)"
   ]
  },
  {
   "cell_type": "code",
   "execution_count": null,
   "id": "4",
   "metadata": {},
   "outputs": [],
   "source": [
    "# Lettura file di testo\n",
    "direct_single = []\n",
    "\n",
    "with open('deltaN_direct_single.txt', 'r') as f:\n",
    "    while True:\n",
    "        line = f.readline()\n",
    "        line = line.strip()\n",
    "        if not line:\n",
    "            break\n",
    "        direct_single.append(float(line))\n",
    "print(direct_single)"
   ]
  },
  {
   "cell_type": "code",
   "execution_count": null,
   "id": "5",
   "metadata": {},
   "outputs": [],
   "source": [
    "# Lettura file di testo\n",
    "direct_double = []\n",
    "\n",
    "with open('deltaN_direct_double.txt', 'r') as f:\n",
    "    while True:\n",
    "        line = f.readline()\n",
    "        line = line.strip()\n",
    "        if not line:\n",
    "            break\n",
    "        direct_double.append(float(line))\n",
    "print(direct_double)"
   ]
  },
  {
   "cell_type": "code",
   "execution_count": null,
   "id": "6",
   "metadata": {},
   "outputs": [],
   "source": [
    "# Punti da riportare sul grafico\n",
    "N_min = 100\n",
    "N_max = 10000\n",
    "step = 100\n",
    "x = [n for n in range(N_min, N_max + step, step)]\n",
    "y1 = direct_single\n",
    "y2 = direct_double\n",
    "print(x)"
   ]
  },
  {
   "cell_type": "code",
   "execution_count": null,
   "id": "7",
   "metadata": {},
   "outputs": [],
   "source": [
    "plt.title('Scarti della somma diretta', fontsize=12)\n",
    "\n",
    "plt.gca().tick_params(axis='both', which='major', labelsize=8)\n",
    "plt.xlabel('N', fontsize=10) # Asse x\n",
    "plt.ylabel('ΔN = |S(N) -  π^2 / 6|', fontsize=10) # Asse y\n",
    "plt.yscale('log')\n",
    "\n",
    "plt.plot(x, y1, 'o-', color='red', lw=1.5, ms=2, label='Precisione singola')\n",
    "plt.plot(x, y2, 'o-', color='blue', lw=1, ms=2, label='Precisione doppia')\n",
    "\n",
    "plt.legend(fancybox=False, fontsize=10)\n",
    "\n",
    "plt.savefig('direct_confronto.png', dpi=200)\n",
    "plt.show()"
   ]
  },
  {
   "cell_type": "markdown",
   "id": "8",
   "metadata": {},
   "source": [
    "## Somma inversa (confronto single/double)"
   ]
  },
  {
   "cell_type": "code",
   "execution_count": null,
   "id": "9",
   "metadata": {},
   "outputs": [],
   "source": [
    "# Lettura file di testo\n",
    "inverse_single = []\n",
    "\n",
    "with open('deltaN_inverse_single.txt', 'r') as f:\n",
    "    while True:\n",
    "        line = f.readline()\n",
    "        line = line.strip()\n",
    "        if not line:\n",
    "            break\n",
    "        inverse_single.append(float(line))\n",
    "print(inverse_single)"
   ]
  },
  {
   "cell_type": "code",
   "execution_count": null,
   "id": "10",
   "metadata": {},
   "outputs": [],
   "source": [
    "# Lettura file di testo\n",
    "inverse_double = []\n",
    "\n",
    "with open('deltaN_inverse_double.txt', 'r') as f:\n",
    "    while True:\n",
    "        line = f.readline()\n",
    "        line = line.strip()\n",
    "        if not line:\n",
    "            break\n",
    "        inverse_double.append(float(line))\n",
    "print(inverse_double)"
   ]
  },
  {
   "cell_type": "code",
   "execution_count": null,
   "id": "11",
   "metadata": {},
   "outputs": [],
   "source": [
    "# Punti da riportare sul grafico\n",
    "y1 = inverse_single\n",
    "y2 = inverse_double"
   ]
  },
  {
   "cell_type": "code",
   "execution_count": null,
   "id": "12",
   "metadata": {},
   "outputs": [],
   "source": [
    "plt.title('Scarti della somma inversa', fontsize=12)\n",
    "\n",
    "plt.gca().tick_params(axis='both', which='major', labelsize=8)\n",
    "plt.xlabel('N', fontsize=10) # Asse x\n",
    "plt.ylabel('ΔN = |S(N) -  π^2 / 6|', fontsize=10) # Asse y\n",
    "plt.yscale('log')\n",
    "\n",
    "plt.plot(x, y1, 'o-', color='red', lw=1.5, ms=2, label='Precisione singola')\n",
    "plt.plot(x, y2, 'o-', color='blue', lw=1, ms=2, label='Precisione doppia')\n",
    "\n",
    "plt.legend(fancybox=False, fontsize=10)\n",
    "\n",
    "plt.savefig('inverse_confronto.png', dpi=200)\n",
    "plt.show()"
   ]
  },
  {
   "cell_type": "markdown",
   "id": "13",
   "metadata": {},
   "source": [
    "## Confronto tra somma diretta e somma inversa (single)"
   ]
  },
  {
   "cell_type": "code",
   "execution_count": null,
   "id": "14",
   "metadata": {},
   "outputs": [],
   "source": [
    "# Punti da riportare sul grafico\n",
    "y1 = direct_single\n",
    "y2 = inverse_single"
   ]
  },
  {
   "cell_type": "code",
   "execution_count": null,
   "id": "15",
   "metadata": {},
   "outputs": [],
   "source": [
    "plt.title('Confronto tra somma diretta e somma inversa (single)', fontsize=12)\n",
    "\n",
    "plt.gca().tick_params(axis='both', which='major', labelsize=8)\n",
    "plt.xlabel('N', fontsize=10) # Asse x\n",
    "plt.ylabel('ΔN = |S(N) -  π^2 / 6|', fontsize=10) # Asse y\n",
    "plt.yscale('log')\n",
    "\n",
    "plt.plot(x, y1, 'o-', color='red', lw=1.5, ms=2, label='Somma diretta')\n",
    "plt.plot(x, y2, 'o-', color='blue', lw=1, ms=2, label='Somma inversa')\n",
    "\n",
    "plt.legend(fancybox=False, fontsize=10)\n",
    "\n",
    "plt.savefig('dir_inv_single.png', dpi=200)\n",
    "plt.show()"
   ]
  },
  {
   "cell_type": "markdown",
   "id": "16",
   "metadata": {},
   "source": [
    "## Confronto tra somma diretta e somma inversa (double)"
   ]
  },
  {
   "cell_type": "code",
   "execution_count": null,
   "id": "17",
   "metadata": {},
   "outputs": [],
   "source": [
    "# Punti da riportare sul grafico\n",
    "y1 = direct_double\n",
    "y2 = inverse_double"
   ]
  },
  {
   "cell_type": "code",
   "execution_count": null,
   "id": "18",
   "metadata": {},
   "outputs": [],
   "source": [
    "plt.title('Confronto tra somma diretta e somma inversa (double)', fontsize=12)\n",
    "\n",
    "plt.gca().tick_params(axis='both', which='major', labelsize=8)\n",
    "plt.xlabel('N', fontsize=10) # Asse x\n",
    "plt.ylabel('ΔN = |S(N) -  π^2 / 6|', fontsize=10) # Asse y\n",
    "plt.yscale('log')\n",
    "\n",
    "plt.plot(x, y1, 'o-', color='red', lw=1.5, ms=2, label='Somma diretta')\n",
    "plt.plot(x, y2, 'o-', color='blue', lw=1, ms=2, label='Somma inversa')\n",
    "\n",
    "plt.legend(fancybox=False, fontsize=10)\n",
    "\n",
    "plt.savefig('dir_inv_double.png', dpi=200)\n",
    "plt.show()"
   ]
  }
 ],
 "metadata": {
  "kernelspec": {
   "display_name": "labcalcolo",
   "language": "python",
   "name": "python3"
  },
  "language_info": {
   "codemirror_mode": {
    "name": "ipython",
    "version": 3
   },
   "file_extension": ".py",
   "mimetype": "text/x-python",
   "name": "python",
   "nbconvert_exporter": "python",
   "pygments_lexer": "ipython3",
   "version": "3.13.1"
  }
 },
 "nbformat": 4,
 "nbformat_minor": 5
}
