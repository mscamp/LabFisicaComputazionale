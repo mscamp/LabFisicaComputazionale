{
 "cells": [
  {
   "cell_type": "markdown",
   "metadata": {},
   "source": [
    "## Moduli"
   ]
  },
  {
   "cell_type": "code",
   "execution_count": null,
   "metadata": {},
   "outputs": [],
   "source": [
    "# Importa moduli\n",
    "import numpy as np\n",
    "import matplotlib.pyplot as plt\n",
    "import scienceplots\n",
    "import math"
   ]
  },
  {
   "cell_type": "code",
   "execution_count": null,
   "metadata": {},
   "outputs": [],
   "source": [
    "# Stile dei grafici\n",
    "plt.style.use(['science', 'notebook', 'grid'])"
   ]
  },
  {
   "cell_type": "markdown",
   "metadata": {},
   "source": [
    "## Variabili globali"
   ]
  },
  {
   "cell_type": "code",
   "execution_count": null,
   "metadata": {},
   "outputs": [],
   "source": [
    "n = 1000"
   ]
  },
  {
   "cell_type": "markdown",
   "metadata": {},
   "source": [
    "## Lettura del file"
   ]
  },
  {
   "cell_type": "code",
   "execution_count": null,
   "metadata": {},
   "outputs": [],
   "source": [
    "def leggi_file(file_name):\n",
    "    file = np.loadtxt(file_name)\n",
    "    x = file[:, 0]\n",
    "    y = file[:, 1]\n",
    "    z = file[:, 2]\n",
    "    return x, y, z"
   ]
  },
  {
   "cell_type": "markdown",
   "metadata": {},
   "source": [
    "## Plot di $(x, y)$"
   ]
  },
  {
   "cell_type": "code",
   "execution_count": null,
   "metadata": {},
   "outputs": [],
   "source": [
    "x, y, js = leggi_file(\"newton_fractal.txt\")\n",
    "\n",
    "plt.title('Plot del frattale di Newton', fontsize=12)\n",
    "\n",
    "plt.gca().tick_params(axis='both', which='major', labelsize=8)\n",
    "plt.xlabel('Re($z$)', fontsize=10) # Asse x\n",
    "plt.ylabel('Im($z$)', fontsize=10) # Asse y\n",
    "\n",
    "plt.scatter(x, y, s=1.5, c=js, cmap='inferno')\n",
    "cbar = plt.colorbar()\n",
    "cbar.set_label(label='Numero di iterazioni', fontsize=10)\n",
    "cbar.ax.tick_params(which='major', labelsize=8)\n",
    "\n",
    "plt.savefig('newton_fractal.png', dpi=200)\n",
    "plt.show()"
   ]
  }
 ],
 "metadata": {
  "kernelspec": {
   "display_name": "labcalcolo",
   "language": "python",
   "name": "python3"
  },
  "language_info": {
   "codemirror_mode": {
    "name": "ipython",
    "version": 3
   },
   "file_extension": ".py",
   "mimetype": "text/x-python",
   "name": "python",
   "nbconvert_exporter": "python",
   "pygments_lexer": "ipython3",
   "version": "3.13.1"
  }
 },
 "nbformat": 4,
 "nbformat_minor": 2
}
