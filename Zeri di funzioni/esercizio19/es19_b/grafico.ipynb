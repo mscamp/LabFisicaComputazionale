{
 "cells": [
  {
   "cell_type": "markdown",
   "id": "0",
   "metadata": {},
   "source": [
    "## Moduli"
   ]
  },
  {
   "cell_type": "code",
   "execution_count": null,
   "id": "1",
   "metadata": {},
   "outputs": [],
   "source": [
    "# Importa moduli\n",
    "import numpy as np\n",
    "import matplotlib.pyplot as plt\n",
    "import scienceplots"
   ]
  },
  {
   "cell_type": "code",
   "execution_count": null,
   "id": "2",
   "metadata": {},
   "outputs": [],
   "source": [
    "# Stile dei grafici\n",
    "plt.style.use(['science', 'notebook', 'grid'])"
   ]
  },
  {
   "cell_type": "markdown",
   "id": "3",
   "metadata": {},
   "source": [
    "## Lettura file"
   ]
  },
  {
   "cell_type": "code",
   "execution_count": null,
   "id": "4",
   "metadata": {},
   "outputs": [],
   "source": [
    "# Lettura file di testo\n",
    "zeri_bisezione = []\n",
    "\n",
    "with open('zeri_bisezione.txt', 'r') as f:\n",
    "    while True:\n",
    "        line = f.readline()\n",
    "        line = line.strip()\n",
    "        if not line:\n",
    "            break\n",
    "        zeri_bisezione.append(float(line))\n",
    "print(zeri_bisezione)"
   ]
  },
  {
   "cell_type": "code",
   "execution_count": null,
   "id": "5",
   "metadata": {},
   "outputs": [],
   "source": [
    "# Lettura file di testo\n",
    "zeri_newton = []\n",
    "\n",
    "with open('zeri_newton.txt', 'r') as f:\n",
    "    while True:\n",
    "        line = f.readline()\n",
    "        line = line.strip()\n",
    "        if not line:\n",
    "            break\n",
    "        zeri_newton.append(float(line))\n",
    "print(zeri_newton)"
   ]
  },
  {
   "cell_type": "markdown",
   "id": "6",
   "metadata": {},
   "source": [
    "## Plot"
   ]
  },
  {
   "cell_type": "code",
   "execution_count": null,
   "id": "7",
   "metadata": {},
   "outputs": [],
   "source": [
    "def f(x):\n",
    "    return (46189.0 * pow(x, 10.0) + (-1.0) * 109395.0 * pow(x, 8.0) + 90090.0 * pow(x, 6.0) + (-1.0) * 30030.0 * pow(x, 4.0) + 3465.0 * x * x + (-1.0) * 63.0) / 256.0;"
   ]
  },
  {
   "cell_type": "code",
   "execution_count": null,
   "id": "8",
   "metadata": {},
   "outputs": [],
   "source": [
    "x_min = -1.0\n",
    "x_max = 1.0\n",
    "x_lin = np.linspace(x_min, x_max, 10000)\n",
    "x1 = zeri_bisezione\n",
    "x2 = zeri_newton"
   ]
  },
  {
   "cell_type": "code",
   "execution_count": null,
   "id": "9",
   "metadata": {},
   "outputs": [],
   "source": [
    "plt.title('Zeri di $f(x) = L_{n}(x)$', fontsize=12)\n",
    "\n",
    "plt.gca().tick_params(axis='both', which='major', labelsize=8)\n",
    "plt.xlabel('x', fontsize=10) # Asse x\n",
    "plt.ylabel('f(x)', fontsize=10) # Asse y\n",
    "\n",
    "plt.plot(x_lin, f(x_lin), '-', color='blue', lw=1.0, label='f(x)')\n",
    "plt.plot(x1, np.zeros(len(x1)), 'x', color='red', ms=10.0, label='Bisezione')\n",
    "plt.plot(x2, np.zeros(len(x2)), 'x', color='green', ms=4.0, label='Newton')\n",
    "\n",
    "plt.legend(fancybox=False, fontsize=10, loc='upper right')\n",
    "\n",
    "plt.savefig('zeri_f.png', dpi=200)\n",
    "plt.show()"
   ]
  }
 ],
 "metadata": {
  "kernelspec": {
   "display_name": "labcalcolo",
   "language": "python",
   "name": "python3"
  },
  "language_info": {
   "codemirror_mode": {
    "name": "ipython",
    "version": 3
   },
   "file_extension": ".py",
   "mimetype": "text/x-python",
   "name": "python",
   "nbconvert_exporter": "python",
   "pygments_lexer": "ipython3",
   "version": "3.13.1"
  }
 },
 "nbformat": 4,
 "nbformat_minor": 5
}
