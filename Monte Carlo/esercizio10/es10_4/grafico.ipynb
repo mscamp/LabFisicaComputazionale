{
 "cells": [
  {
   "cell_type": "markdown",
   "id": "0",
   "metadata": {},
   "source": [
    "## Moduli"
   ]
  },
  {
   "cell_type": "code",
   "execution_count": null,
   "id": "1",
   "metadata": {},
   "outputs": [],
   "source": [
    "# Importa moduli\n",
    "import numpy as np\n",
    "import matplotlib.pyplot as plt\n",
    "import scienceplots\n",
    "import math"
   ]
  },
  {
   "cell_type": "code",
   "execution_count": null,
   "id": "2",
   "metadata": {},
   "outputs": [],
   "source": [
    "# Stile dei grafici\n",
    "plt.style.use(['science', 'notebook', 'grid'])"
   ]
  },
  {
   "cell_type": "markdown",
   "id": "3",
   "metadata": {},
   "source": [
    "## Variabili globali"
   ]
  },
  {
   "cell_type": "code",
   "execution_count": null,
   "id": "4",
   "metadata": {},
   "outputs": [],
   "source": [
    "# Vettore degli N\n",
    "N_min = 100\n",
    "N_max = 100000\n",
    "step = 100\n",
    "N_vec = [n for n in range(N_min, N_max + step, step)]\n",
    "print(N_vec)"
   ]
  },
  {
   "cell_type": "markdown",
   "id": "5",
   "metadata": {},
   "source": [
    "## Lettura file di testo"
   ]
  },
  {
   "cell_type": "code",
   "execution_count": null,
   "id": "6",
   "metadata": {},
   "outputs": [],
   "source": [
    "scarto_mc = []\n",
    "\n",
    "with open('monte_carlo_scarto.txt', 'r') as f:\n",
    "    while True:\n",
    "        line = f.readline()\n",
    "        line = line.strip()\n",
    "        if not line:\n",
    "            break\n",
    "        scarto_mc.append(float(line))\n",
    "        \n",
    "print(scarto_mc)"
   ]
  },
  {
   "cell_type": "code",
   "execution_count": null,
   "id": "7",
   "metadata": {},
   "outputs": [],
   "source": [
    "scarto_hm = []\n",
    "\n",
    "with open('hit_or_miss_scarto.txt', 'r') as f:\n",
    "    while True:\n",
    "        line = f.readline()\n",
    "        line = line.strip()\n",
    "        if not line:\n",
    "            break\n",
    "        scarto_hm.append(float(line))\n",
    "\n",
    "print(scarto_hm)"
   ]
  },
  {
   "cell_type": "code",
   "execution_count": null,
   "id": "8",
   "metadata": {},
   "outputs": [],
   "source": [
    "errore_mc = []\n",
    "\n",
    "with open('monte_carlo_incertezza.txt', 'r') as f:\n",
    "    while True:\n",
    "        line = f.readline()\n",
    "        line = line.strip()\n",
    "        if not line:\n",
    "            break\n",
    "        errore_mc.append(float(line))\n",
    "\n",
    "print(errore_mc)"
   ]
  },
  {
   "cell_type": "code",
   "execution_count": null,
   "id": "9",
   "metadata": {},
   "outputs": [],
   "source": [
    "errore_hm = []\n",
    "\n",
    "with open('hit_or_miss_incertezza.txt', 'r') as f:\n",
    "    while True:\n",
    "        line = f.readline()\n",
    "        line = line.strip()\n",
    "        if not line:\n",
    "            break\n",
    "        errore_hm.append(float(line))\n",
    "\n",
    "print(errore_hm)"
   ]
  },
  {
   "cell_type": "markdown",
   "id": "10",
   "metadata": {},
   "source": [
    "## Plot"
   ]
  },
  {
   "cell_type": "code",
   "execution_count": null,
   "id": "11",
   "metadata": {},
   "outputs": [],
   "source": [
    "x = np.array(N_vec)\n",
    "y = np.array(scarto_mc)"
   ]
  },
  {
   "cell_type": "code",
   "execution_count": null,
   "id": "12",
   "metadata": {},
   "outputs": [],
   "source": [
    "plt.title('Plot degli scarti in funzione di N (Monte Carlo)', fontsize=12)\n",
    "\n",
    "plt.gca().tick_params(axis='both', which='major', labelsize=8)\n",
    "plt.xlabel('N', fontsize=10) # Asse x\n",
    "plt.ylabel('| MC(N) - I |', fontsize=10) # Asse y\n",
    "\n",
    "plt.plot(x, y, 'x', color='blue', lw=1.0, ms=1.5, label='| MC(N) - I |')\n",
    "\n",
    "plt.legend(fancybox=False, fontsize=10)\n",
    "\n",
    "plt.savefig('scarto_mc.png', dpi=200)\n",
    "plt.show()"
   ]
  },
  {
   "cell_type": "code",
   "execution_count": null,
   "id": "13",
   "metadata": {},
   "outputs": [],
   "source": [
    "x = np.array(N_vec)\n",
    "y = np.array(scarto_hm)"
   ]
  },
  {
   "cell_type": "code",
   "execution_count": null,
   "id": "14",
   "metadata": {},
   "outputs": [],
   "source": [
    "plt.title('Plot degli scarti in funzione di N (Hit or Miss)', fontsize=12)\n",
    "\n",
    "plt.gca().tick_params(axis='both', which='major', labelsize=8)\n",
    "plt.xlabel('N', fontsize=10) # Asse x\n",
    "plt.ylabel('| HM(N) - I |', fontsize=10) # Asse y\n",
    "\n",
    "plt.plot(x, y, 'x', color='blue', lw=1.0, ms=1.5, label='| HM(N) - I |')\n",
    "\n",
    "plt.legend(fancybox=False, fontsize=10)\n",
    "\n",
    "plt.savefig('scarto_hm.png', dpi=200)\n",
    "plt.show()"
   ]
  },
  {
   "cell_type": "code",
   "execution_count": null,
   "id": "15",
   "metadata": {},
   "outputs": [],
   "source": [
    "x = np.array(N_vec)\n",
    "y = np.array(errore_mc)"
   ]
  },
  {
   "cell_type": "code",
   "execution_count": null,
   "id": "16",
   "metadata": {},
   "outputs": [],
   "source": [
    "plt.title('Plot dell\\'errore in funzione di N (Monte Carlo)', fontsize=12)\n",
    "plt.gca().tick_params(axis='both', which='major', labelsize=8)\n",
    "plt.xlabel('N', fontsize=10) # Asse x\n",
    "plt.ylabel('$\\\\sigma$(N)', fontsize=10) # Asse y\n",
    "\n",
    "plt.plot(x, y, 'o', color='green', lw=1.0, ms=0.5, label='$\\\\sigma$(N)')\n",
    "\n",
    "plt.legend(fancybox=False, fontsize=10)\n",
    "\n",
    "plt.savefig('errore_mc.png', dpi=200)\n",
    "plt.show()"
   ]
  },
  {
   "cell_type": "code",
   "execution_count": null,
   "id": "17",
   "metadata": {},
   "outputs": [],
   "source": [
    "x = np.array(N_vec)\n",
    "y = np.array(errore_hm)"
   ]
  },
  {
   "cell_type": "code",
   "execution_count": null,
   "id": "18",
   "metadata": {},
   "outputs": [],
   "source": [
    "plt.title('Plot dell\\'errore in funzione di N (Hit or Miss)', fontsize=12)\n",
    "plt.gca().tick_params(axis='both', which='major', labelsize=8)\n",
    "plt.xlabel('N', fontsize=10) # Asse x\n",
    "plt.ylabel('$\\\\sigma$(N)', fontsize=10) # Asse y\n",
    "\n",
    "plt.plot(x, y, 'o', color='green', lw=1.0, ms=0.5, label='$\\\\sigma$(N)')\n",
    "\n",
    "plt.legend(fancybox=False, fontsize=10)\n",
    "\n",
    "plt.savefig('errore_hm.png', dpi=200)\n",
    "plt.show()"
   ]
  }
 ],
 "metadata": {
  "kernelspec": {
   "display_name": "labcalcolo",
   "language": "python",
   "name": "python3"
  },
  "language_info": {
   "codemirror_mode": {
    "name": "ipython",
    "version": 3
   },
   "file_extension": ".py",
   "mimetype": "text/x-python",
   "name": "python",
   "nbconvert_exporter": "python",
   "pygments_lexer": "ipython3",
   "version": "3.13.1"
  }
 },
 "nbformat": 4,
 "nbformat_minor": 5
}
