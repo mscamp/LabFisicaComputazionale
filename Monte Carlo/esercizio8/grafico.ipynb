{
 "cells": [
  {
   "cell_type": "markdown",
   "id": "0",
   "metadata": {},
   "source": [
    "## Moduli"
   ]
  },
  {
   "cell_type": "code",
   "execution_count": null,
   "id": "1",
   "metadata": {},
   "outputs": [],
   "source": [
    "# Importa moduli\n",
    "import numpy as np\n",
    "import matplotlib.pyplot as plt\n",
    "import scienceplots\n",
    "import math"
   ]
  },
  {
   "cell_type": "code",
   "execution_count": null,
   "id": "2",
   "metadata": {},
   "outputs": [],
   "source": [
    "# Stile dei grafici\n",
    "plt.style.use(['science', 'notebook', 'grid'])"
   ]
  },
  {
   "cell_type": "markdown",
   "id": "3",
   "metadata": {},
   "source": [
    "## Variabili globali"
   ]
  },
  {
   "cell_type": "code",
   "execution_count": null,
   "id": "4",
   "metadata": {},
   "outputs": [],
   "source": [
    "# Vettore degli m\n",
    "dim = 8\n",
    "dims = [n for n in range(1, dim, 1)]\n",
    "print(dims)"
   ]
  },
  {
   "cell_type": "markdown",
   "id": "5",
   "metadata": {},
   "source": [
    "## Lettura file di testo"
   ]
  },
  {
   "cell_type": "code",
   "execution_count": null,
   "id": "6",
   "metadata": {},
   "outputs": [],
   "source": [
    "tempo_midpoint = []\n",
    "\n",
    "with open('tempo_esecuzione_midpoint.txt', 'r') as f:\n",
    "    while True:\n",
    "        line = f.readline()\n",
    "        line = line.strip()\n",
    "        if not line:\n",
    "            break\n",
    "        tempo_midpoint.append(float(line))\n",
    "        \n",
    "print(tempo_midpoint)"
   ]
  },
  {
   "cell_type": "code",
   "execution_count": null,
   "id": "7",
   "metadata": {},
   "outputs": [],
   "source": [
    "tempo_mc = []\n",
    "\n",
    "with open('tempo_esecuzione_mc.txt', 'r') as f:\n",
    "    while True:\n",
    "        line = f.readline()\n",
    "        line = line.strip()\n",
    "        if not line:\n",
    "            break\n",
    "        tempo_mc.append(float(line))\n",
    "        \n",
    "print(tempo_mc)"
   ]
  },
  {
   "cell_type": "markdown",
   "id": "8",
   "metadata": {},
   "source": [
    "# Plot tempo di esecuzione"
   ]
  },
  {
   "cell_type": "code",
   "execution_count": null,
   "id": "9",
   "metadata": {},
   "outputs": [],
   "source": [
    "x = np.array(dims)\n",
    "y1 = np.array(tempo_midpoint)\n",
    "y2 = np.array(tempo_mc)"
   ]
  },
  {
   "cell_type": "code",
   "execution_count": null,
   "id": "10",
   "metadata": {},
   "outputs": [],
   "source": [
    "plt.title('Plot del tempo di esecuzione in funzione di M', fontsize=12)\n",
    "\n",
    "plt.gca().tick_params(axis='both', which='major', labelsize=8)\n",
    "plt.xlabel('M', fontsize=10) # Asse x\n",
    "plt.ylabel('t [s]', fontsize=10) # Asse y\n",
    "plt.yscale('log')\n",
    "\n",
    "plt.plot(x, y1, 'o--', color='blue', lw=1.0, ms=4, label='Midpoint')\n",
    "plt.plot(x, y2, 'o--', color='red', lw=1.0, ms=4, label='Monte Carlo')\n",
    "\n",
    "plt.legend(fancybox=False, fontsize=10)\n",
    "\n",
    "plt.savefig('tempi_esecuzione.png', dpi=200)\n",
    "plt.show()"
   ]
  }
 ],
 "metadata": {
  "kernelspec": {
   "display_name": "labcalcolo",
   "language": "python",
   "name": "python3"
  },
  "language_info": {
   "codemirror_mode": {
    "name": "ipython",
    "version": 3
   },
   "file_extension": ".py",
   "mimetype": "text/x-python",
   "name": "python",
   "nbconvert_exporter": "python",
   "pygments_lexer": "ipython3",
   "version": "3.13.1"
  }
 },
 "nbformat": 4,
 "nbformat_minor": 5
}
