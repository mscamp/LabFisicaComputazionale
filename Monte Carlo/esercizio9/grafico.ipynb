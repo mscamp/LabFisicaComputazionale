{
 "cells": [
  {
   "cell_type": "markdown",
   "id": "0",
   "metadata": {},
   "source": [
    "## Moduli"
   ]
  },
  {
   "cell_type": "code",
   "execution_count": null,
   "id": "1",
   "metadata": {},
   "outputs": [],
   "source": [
    "# Importa moduli\n",
    "import numpy as np\n",
    "import matplotlib.pyplot as plt\n",
    "import scienceplots"
   ]
  },
  {
   "cell_type": "code",
   "execution_count": null,
   "id": "2",
   "metadata": {},
   "outputs": [],
   "source": [
    "# Stile dei grafici\n",
    "plt.style.use(['science', 'notebook', 'grid'])"
   ]
  },
  {
   "cell_type": "markdown",
   "id": "3",
   "metadata": {},
   "source": [
    "## Confronto grafico tra TCL e gaussiana (punti interni)"
   ]
  },
  {
   "cell_type": "code",
   "execution_count": null,
   "id": "4",
   "metadata": {},
   "outputs": [],
   "source": [
    "# Variables\n",
    "N = 20\n",
    "N_len = 50"
   ]
  },
  {
   "cell_type": "code",
   "execution_count": null,
   "id": "5",
   "metadata": {},
   "outputs": [],
   "source": [
    "# Lettura file di testo TCL (distribuzione gaussiana con teorema centrale del limite)\"\n",
    "gauss_tcl = []\n",
    "\n",
    "for n in range(1, N + 1):\n",
    "    gauss_tcl_nth = []\n",
    "    with open('gauss_TCL_interni_N' + str(n) + '.txt', 'r') as f:\n",
    "        while True:\n",
    "            line = f.readline()\n",
    "            line = line.strip()\n",
    "            if not line:\n",
    "                break\n",
    "            gauss_tcl_nth.append(float(line))\n",
    "    gauss_tcl.append(gauss_tcl_nth)\n",
    "\n",
    "print(len(gauss_tcl))"
   ]
  },
  {
   "cell_type": "code",
   "execution_count": null,
   "id": "6",
   "metadata": {},
   "outputs": [],
   "source": [
    "# Plot istogramma\n",
    "fig, axes = plt.subplots(5, 4, figsize=(8,8))\n",
    "\n",
    "n = 0\n",
    "n_label = 1\n",
    "\n",
    "for i in range(0, 5):\n",
    "    for j in range(0, 4):\n",
    "\n",
    "        ax = axes[i][j]\n",
    "        ax.hist(gauss_tcl[n], bins='auto', density=True)\n",
    "            \n",
    "        ax.set_title('N = ' + str(n_label), fontsize=10)\n",
    "        ax.tick_params(axis='both', which='major', labelsize=10)\n",
    "        \n",
    "        n += 1\n",
    "        n_label += 1\n",
    "        \n",
    "\n",
    "fig.tight_layout()\n",
    "fig.suptitle('Teorema centrale del limite (punti interni)', y=1.03, fontsize=18)\n",
    "plt.savefig('gauss_interni_hist.png', dpi=200)\n",
    "plt.show()"
   ]
  },
  {
   "cell_type": "markdown",
   "id": "7",
   "metadata": {},
   "source": [
    "## Confronto grafico tra TCL e gaussiana (estremi)"
   ]
  },
  {
   "cell_type": "code",
   "execution_count": null,
   "id": "8",
   "metadata": {},
   "outputs": [],
   "source": [
    "# Lettura file di testo TCL (distribuzione gaussiana con teorema centrale del limite)\"\n",
    "gauss_tcl = []\n",
    "\n",
    "for n in range(1, N + 1):\n",
    "    gauss_tcl_nth = []\n",
    "    with open('gauss_TCL_estremi_N' + str(n) + '.txt', 'r') as f:\n",
    "        while True:\n",
    "            line = f.readline()\n",
    "            line = line.strip()\n",
    "            if not line:\n",
    "                break\n",
    "            gauss_tcl_nth.append(float(line))\n",
    "    gauss_tcl.append(gauss_tcl_nth)\n",
    "\n",
    "print(len(gauss_tcl))"
   ]
  },
  {
   "cell_type": "code",
   "execution_count": null,
   "id": "9",
   "metadata": {},
   "outputs": [],
   "source": [
    "# Plot istogramma\n",
    "fig, axes = plt.subplots(5, 4, figsize=(8,8))\n",
    "\n",
    "n = 0\n",
    "n_label = 1\n",
    "\n",
    "for i in range(0, 5):\n",
    "    for j in range(0, 4):\n",
    "\n",
    "        ax = axes[i][j]\n",
    "        ax.hist(gauss_tcl[n], bins='auto', density=True)\n",
    "            \n",
    "        ax.set_title('N = ' + str(n_label), fontsize=10)\n",
    "        ax.tick_params(axis='both', which='major', labelsize=10)\n",
    "        \n",
    "        n += 1\n",
    "        n_label += 1\n",
    "        \n",
    "\n",
    "fig.tight_layout()\n",
    "fig.suptitle('Teorema centrale del limite (estremi)', y=1.03, fontsize=18)\n",
    "plt.savefig('gauss_estremi_hist.png', dpi=200)\n",
    "plt.show()"
   ]
  },
  {
   "cell_type": "markdown",
   "id": "10",
   "metadata": {},
   "source": [
    "## Confronto con i momenti di una gaussiana (punti interni)"
   ]
  },
  {
   "cell_type": "code",
   "execution_count": null,
   "id": "11",
   "metadata": {},
   "outputs": [],
   "source": [
    "x4_x2_interni = []\n",
    "\n",
    "with open('momenti_1_interni.txt', 'r') as f:\n",
    "    while True:\n",
    "        line = f.readline()\n",
    "        line = line.strip()\n",
    "        if not line:\n",
    "            break\n",
    "        x4_x2_interni.append(float(line))\n",
    "        \n",
    "print(x4_x2_interni)"
   ]
  },
  {
   "cell_type": "code",
   "execution_count": null,
   "id": "12",
   "metadata": {},
   "outputs": [],
   "source": [
    "x6_x4_interni = []\n",
    "\n",
    "with open('momenti_2_interni.txt', 'r') as f:\n",
    "    while True:\n",
    "        line = f.readline()\n",
    "        line = line.strip()\n",
    "        if not line:\n",
    "            break\n",
    "        x6_x4_interni.append(float(line))\n",
    "        \n",
    "print(x6_x4_interni)"
   ]
  },
  {
   "cell_type": "code",
   "execution_count": null,
   "id": "13",
   "metadata": {},
   "outputs": [],
   "source": [
    "x4_x2_gauss = []\n",
    "\n",
    "with open('momenti_1_gauss.txt', 'r') as f:\n",
    "    while True:\n",
    "        line = f.readline()\n",
    "        line = line.strip()\n",
    "        if not line:\n",
    "            break\n",
    "        x4_x2_gauss.append(float(line))\n",
    "        \n",
    "print(x4_x2_gauss)"
   ]
  },
  {
   "cell_type": "code",
   "execution_count": null,
   "id": "14",
   "metadata": {},
   "outputs": [],
   "source": [
    "x6_x4_gauss = []\n",
    "\n",
    "with open('momenti_2_gauss.txt', 'r') as f:\n",
    "    while True:\n",
    "        line = f.readline()\n",
    "        line = line.strip()\n",
    "        if not line:\n",
    "            break\n",
    "        x6_x4_gauss.append(float(line))\n",
    "        \n",
    "print(x6_x4_gauss)"
   ]
  },
  {
   "cell_type": "code",
   "execution_count": null,
   "id": "15",
   "metadata": {},
   "outputs": [],
   "source": [
    "x = np.array([n for n in range(1, N_len + 1)])\n",
    "y1 = np.array(x4_x2_interni)\n",
    "y2 = np.array(x4_x2_gauss)"
   ]
  },
  {
   "cell_type": "code",
   "execution_count": null,
   "id": "16",
   "metadata": {},
   "outputs": [],
   "source": [
    "plt.title('Plot di $\\\\langle x^4 \\\\rangle / \\\\langle x^2 \\\\rangle$ (punti interni)', fontsize=12)\n",
    "\n",
    "plt.gca().tick_params(axis='both', which='major', labelsize=8)\n",
    "plt.xlabel('N', fontsize=10) # Asse x\n",
    "plt.ylabel('$\\\\langle x^4 \\\\rangle / \\\\langle x^2 \\\\rangle$', fontsize=10) # Asse y\n",
    "\n",
    "plt.plot(x, y1, 'o--', color='blue', lw=1.0, ms=4, label='Punti interni')\n",
    "plt.plot(x, y2, 'o--', color='red', lw=1.0, ms=4, label='Valore atteso per una gaussiana')\n",
    "\n",
    "plt.legend(fancybox=False, fontsize=10)\n",
    "\n",
    "plt.savefig('plot_momenti_1_interni.png', dpi=200)\n",
    "plt.show()"
   ]
  },
  {
   "cell_type": "code",
   "execution_count": null,
   "id": "17",
   "metadata": {},
   "outputs": [],
   "source": [
    "y1 = np.array(x6_x4_interni)\n",
    "y2 = np.array(x6_x4_gauss)"
   ]
  },
  {
   "cell_type": "code",
   "execution_count": null,
   "id": "18",
   "metadata": {},
   "outputs": [],
   "source": [
    "plt.title('Plot di $\\\\langle x^6 \\\\rangle / \\\\langle x^4 \\\\rangle$ (punti interni)', fontsize=12)\n",
    "\n",
    "plt.gca().tick_params(axis='both', which='major', labelsize=8)\n",
    "plt.xlabel('N', fontsize=10) # Asse x\n",
    "plt.ylabel('$\\\\langle x^6 \\\\rangle / \\\\langle x^4 \\\\rangle$', fontsize=10) # Asse y\n",
    "\n",
    "plt.plot(x, y1, 'o--', color='blue', lw=1.0, ms=4, label='Punti interni')\n",
    "plt.plot(x, y2, 'o--', color='red', lw=1.0, ms=4, label='Valore atteso per una gaussiana')\n",
    "\n",
    "plt.legend(fancybox=False, fontsize=10)\n",
    "\n",
    "plt.savefig('plot_momenti_2_interni.png', dpi=200)\n",
    "plt.show()"
   ]
  },
  {
   "cell_type": "markdown",
   "id": "19",
   "metadata": {},
   "source": [
    "## Confronto con i momenti di una gaussiana (estremi)"
   ]
  },
  {
   "cell_type": "code",
   "execution_count": null,
   "id": "20",
   "metadata": {},
   "outputs": [],
   "source": [
    "x4_x2_estremi = []\n",
    "\n",
    "with open('momenti_1_estremi.txt', 'r') as f:\n",
    "    while True:\n",
    "        line = f.readline()\n",
    "        line = line.strip()\n",
    "        if not line:\n",
    "            break\n",
    "        x4_x2_estremi.append(float(line))\n",
    "        \n",
    "print(x4_x2_estremi)"
   ]
  },
  {
   "cell_type": "code",
   "execution_count": null,
   "id": "21",
   "metadata": {},
   "outputs": [],
   "source": [
    "x6_x4_estremi = []\n",
    "\n",
    "with open('momenti_2_estremi.txt', 'r') as f:\n",
    "    while True:\n",
    "        line = f.readline()\n",
    "        line = line.strip()\n",
    "        if not line:\n",
    "            break\n",
    "        x6_x4_estremi.append(float(line))\n",
    "        \n",
    "print(x6_x4_estremi)"
   ]
  },
  {
   "cell_type": "code",
   "execution_count": null,
   "id": "22",
   "metadata": {},
   "outputs": [],
   "source": [
    "y1 = np.array(x4_x2_estremi)\n",
    "y2 = np.array(x4_x2_gauss)"
   ]
  },
  {
   "cell_type": "code",
   "execution_count": null,
   "id": "23",
   "metadata": {},
   "outputs": [],
   "source": [
    "plt.title('Plot di $\\\\langle x^4 \\\\rangle / \\\\langle x^2 \\\\rangle$ (estremi)', fontsize=12)\n",
    "\n",
    "plt.gca().tick_params(axis='both', which='major', labelsize=8)\n",
    "plt.xlabel('N', fontsize=10) # Asse x\n",
    "plt.ylabel('$\\\\langle x^4 \\\\rangle / \\\\langle x^2 \\\\rangle$', fontsize=10) # Asse y\n",
    "\n",
    "plt.plot(x, y1, 'o--', color='blue', lw=1.0, ms=4, label='Estremi')\n",
    "plt.plot(x, y2, 'o--', color='red', lw=1.0, ms=4, label='Valore atteso per una gaussiana')\n",
    "\n",
    "plt.legend(fancybox=False, fontsize=10)\n",
    "\n",
    "plt.savefig('plot_momenti_1_estremi.png', dpi=200)\n",
    "plt.show()"
   ]
  },
  {
   "cell_type": "code",
   "execution_count": null,
   "id": "24",
   "metadata": {},
   "outputs": [],
   "source": [
    "y1 = np.array(x6_x4_estremi)\n",
    "y2 = np.array(x6_x4_gauss)"
   ]
  },
  {
   "cell_type": "code",
   "execution_count": null,
   "id": "25",
   "metadata": {},
   "outputs": [],
   "source": [
    "plt.title('Plot di $\\\\langle x^6 \\\\rangle / \\\\langle x^4 \\\\rangle$ (estremi)', fontsize=12)\n",
    "\n",
    "plt.gca().tick_params(axis='both', which='major', labelsize=8)\n",
    "plt.xlabel('N', fontsize=10) # Asse x\n",
    "plt.ylabel('$\\\\langle x^6 \\\\rangle / \\\\langle x^4 \\\\rangle$', fontsize=10) # Asse y\n",
    "\n",
    "plt.plot(x, y1, 'o--', color='blue', lw=1.0, ms=4, label='Estremi')\n",
    "plt.plot(x, y2, 'o--', color='red', lw=1.0, ms=4, label='Valore atteso per una gaussiana')\n",
    "\n",
    "plt.legend(fancybox=False, fontsize=10)\n",
    "\n",
    "plt.savefig('plot_momenti_2_estremi.png', dpi=200)\n",
    "plt.show()"
   ]
  }
 ],
 "metadata": {
  "kernelspec": {
   "display_name": "labcalcolo",
   "language": "python",
   "name": "python3"
  },
  "language_info": {
   "codemirror_mode": {
    "name": "ipython",
    "version": 3
   },
   "file_extension": ".py",
   "mimetype": "text/x-python",
   "name": "python",
   "nbconvert_exporter": "python",
   "pygments_lexer": "ipython3",
   "version": "3.13.1"
  }
 },
 "nbformat": 4,
 "nbformat_minor": 5
}
