{
 "cells": [
  {
   "cell_type": "markdown",
   "id": "0",
   "metadata": {},
   "source": [
    "## Moduli"
   ]
  },
  {
   "cell_type": "code",
   "execution_count": null,
   "id": "1",
   "metadata": {},
   "outputs": [],
   "source": [
    "# Importa moduli\n",
    "import numpy as np\n",
    "import matplotlib.pyplot as plt\n",
    "import scienceplots\n",
    "import math"
   ]
  },
  {
   "cell_type": "code",
   "execution_count": null,
   "id": "2",
   "metadata": {},
   "outputs": [],
   "source": [
    "# Stile dei grafici\n",
    "plt.style.use(['science', 'notebook', 'grid'])"
   ]
  },
  {
   "cell_type": "markdown",
   "id": "3",
   "metadata": {},
   "source": [
    "## Lettura file di testo"
   ]
  },
  {
   "cell_type": "code",
   "execution_count": null,
   "id": "4",
   "metadata": {},
   "outputs": [],
   "source": [
    "gauss_metodo_esatto = []\n",
    "\n",
    "with open('gauss_metodo_esatto.txt', 'r') as f:\n",
    "    while True:\n",
    "        line = f.readline()\n",
    "        line = line.strip()\n",
    "        if not line:\n",
    "            break\n",
    "        gauss_metodo_esatto.append(float(line))\n",
    "        \n",
    "print(gauss_metodo_esatto)"
   ]
  },
  {
   "cell_type": "code",
   "execution_count": null,
   "id": "5",
   "metadata": {},
   "outputs": [],
   "source": [
    "gauss_accept_reject = []\n",
    "\n",
    "with open('gauss_accept_reject.txt', 'r') as f:\n",
    "    while True:\n",
    "        line = f.readline()\n",
    "        line = line.strip()\n",
    "        if not line:\n",
    "            break\n",
    "        gauss_accept_reject.append(float(line))\n",
    "        \n",
    "print(gauss_accept_reject)"
   ]
  },
  {
   "cell_type": "markdown",
   "id": "6",
   "metadata": {},
   "source": [
    "## Istogramma delle distribuzioni"
   ]
  },
  {
   "cell_type": "code",
   "execution_count": null,
   "id": "7",
   "metadata": {},
   "outputs": [],
   "source": [
    "# Regola di Sturges per determinare il numero di bin\n",
    "def sturges(n_events):\n",
    "    return int(np.ceil(1 + 3.322 * np.log(n_events)))"
   ]
  },
  {
   "cell_type": "code",
   "execution_count": null,
   "id": "8",
   "metadata": {},
   "outputs": [],
   "source": [
    "x_min = -2.5\n",
    "x_max = 2.5\n",
    "points = 1000\n",
    "x_lin = np.linspace(x_min, x_max, points)"
   ]
  },
  {
   "cell_type": "code",
   "execution_count": null,
   "id": "9",
   "metadata": {},
   "outputs": [],
   "source": [
    "sample_1 = np.array(gauss_metodo_esatto)\n",
    "sample_2 = np.array(gauss_accept_reject)\n",
    "n_bins = sturges(len(sample_1))\n",
    "bin_edges = np.linspace(x_min, x_max, n_bins)"
   ]
  },
  {
   "cell_type": "code",
   "execution_count": null,
   "id": "10",
   "metadata": {},
   "outputs": [],
   "source": [
    "plt.title('Istogramma della distribuzione $\\\\frac{1}{\\\\sqrt{\\\\pi}} e^{-x^2}$ in $(- \\\\infty, + \\\\infty)$', fontsize=12)\n",
    "\n",
    "plt.gca().tick_params(axis='both', which='major', labelsize=8)\n",
    "plt.xlabel('x', fontsize=10) # Asse x\n",
    "plt.ylabel('$\\\\frac{1}{\\\\sqrt{\\\\pi}} e^{-x^2}$', fontsize=10) # Asse y\n",
    "\n",
    "plt.hist(sample_1, bins = bin_edges, color = 'blue', density = True, histtype = 'step', label = \"Metodo esatto\")\n",
    "plt.hist(sample_2, bins = bin_edges, color = 'purple', density = True, histtype = 'step', label = \"Accept / Reject\")\n",
    "plt.plot(x_lin, (1.0 / np.sqrt(np.pi)) * np.exp(-x_lin**2), color = 'red', label = \"$\\\\frac{1}{\\\\sqrt{\\\\pi}} e^{-x^2}$\")\n",
    "\n",
    "plt.legend(fancybox=False, fontsize=10)\n",
    "\n",
    "plt.savefig('hist.png', dpi=200)\n",
    "plt.show()"
   ]
  }
 ],
 "metadata": {
  "kernelspec": {
   "display_name": "labcalcolo",
   "language": "python",
   "name": "python3"
  },
  "language_info": {
   "codemirror_mode": {
    "name": "ipython",
    "version": 3
   },
   "file_extension": ".py",
   "mimetype": "text/x-python",
   "name": "python",
   "nbconvert_exporter": "python",
   "pygments_lexer": "ipython3",
   "version": "3.13.1"
  }
 },
 "nbformat": 4,
 "nbformat_minor": 5
}
